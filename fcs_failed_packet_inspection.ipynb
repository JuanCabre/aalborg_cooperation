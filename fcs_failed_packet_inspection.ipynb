{
 "cells": [
  {
   "cell_type": "markdown",
   "metadata": {},
   "source": [
    "# Sending the packets"
   ]
  },
  {
   "cell_type": "markdown",
   "metadata": {},
   "source": [
    "## Broadcast case:"
   ]
  },
  {
   "cell_type": "markdown",
   "metadata": {},
   "source": [
    "A raspberry pi is broadcasting or unicasting packets which payloads consisting on just 0 bits\n",
    "\n",
    "The code for broadcasting is;\n",
    "\n",
    "```python\n",
    "# Send UDP broadcast packets\n",
    "\n",
    "import sys, time, array, os\n",
    "from socket import *\n",
    "\n",
    "rates = ['1', '2', '5.5', '6', '9', '11', '12', '18', '24', '36', '48', '54']\n",
    "rates_i = 0\n",
    "MYPORT = 53524\n",
    "# dest_ip = '<broadcast>'\n",
    "# My pc\n",
    "# dest_ip = '192.168.1.124'\n",
    "# Measurements PC\n",
    "dest_ip = '192.168.1.130'\n",
    "data = \"0\"*2500 # n/2 * 8 [bits] in total\n",
    "\n",
    "def change_ap_rate ():\n",
    "    global rates_i\n",
    "    global rates\n",
    "    rate = rates[rates_i]\n",
    "    command = 'ssh root@192.168.1.1 \\'wl rate ' + rate + '\\''\n",
    "    os.popen(command)\n",
    "    print ('Changing rate to {}Mbps'.format(rate) + ' using the following command '  + command)\n",
    "    # Increase the index for the next function call\n",
    "    rates_i += 1\n",
    "    if rates_i >= len(rates):\n",
    "        rates_i = 0\n",
    "\n",
    "# Check if n minute passed\n",
    "def has_minutes_passed(oldepoch,n):\n",
    "    return time.time() - oldepoch >= n*60\n",
    "\n",
    "def main():\n",
    "    # Initialize the rate to 1 Mbps\n",
    "    change_ap_rate()\n",
    "    pkts_sent = 0\n",
    "    oldepoch = time.time()\n",
    "    s = socket(AF_INET, SOCK_DGRAM)\n",
    "    s.bind(('', 0))\n",
    "    s.setsockopt(SOL_SOCKET, SO_BROADCAST, 1)\n",
    "    global data\n",
    "    data= data.decode('hex')\n",
    "\n",
    "    while 1:\n",
    "        s.sendto(data, (dest_ip, MYPORT))\n",
    "        pkts_sent += 1\n",
    "        #print data\n",
    "        # 5 minutes passed\n",
    "        if (has_minutes_passed(oldepoch,5)):\n",
    "            oldepoch = time.time()\n",
    "            print (pkts_sent)\n",
    "            pkts_sent = 0\n",
    "            change_ap_rate()\n",
    "\n",
    "        time.sleep(0.05)\n",
    "        #break\n",
    "\n",
    "if __name__ == \"__main__\":\n",
    "    main()\n",
    "```"
   ]
  },
  {
   "cell_type": "markdown",
   "metadata": {},
   "source": [
    "# Capturing the packets"
   ]
  },
  {
   "cell_type": "markdown",
   "metadata": {},
   "source": [
    "To capture the packets it is needed to set the NIC in monitor mode. The instructions are [here](https://sandilands.info/sgordon/capturing-wifi-in-monitor-mode-with-iw)"
   ]
  },
  {
   "cell_type": "markdown",
   "metadata": {},
   "source": [
    "## Setting up the monitor interface"
   ]
  },
  {
   "cell_type": "markdown",
   "metadata": {},
   "source": [
    "The only special consideration is that you need to include the flag for capturing packets with the FCS fail:\n",
    "\n",
    "```bash\n",
    "sudo iw phy phy0 interface add mon0 type monitor flags fcsfail\n",
    "```\n",
    "\n",
    "I do the following when using the USB dongle\n",
    "\n",
    "```bash\n",
    "sudo iw phy phy1 interface add mon0 type monitor flags fcsfail\n",
    "sudo iw dev wlp0s26u1u2 del\n",
    "sudo ifconfig mon0 up\n",
    "# Set it to channel 6\n",
    "sudo iw dev mon0 set freq 2437\n",
    "```"
   ]
  },
  {
   "cell_type": "markdown",
   "metadata": {},
   "source": [
    "### Troubleshooting: type doesn't change to monitor from managed"
   ]
  },
  {
   "cell_type": "markdown",
   "metadata": {},
   "source": [
    "If the type does not change, it is most likely because network manager is controlling the interface. For solving this, one must remove the interface from the `/etc/NetworkManager/NetworkManager.conf` file.\n",
    "\n",
    "Add these lines to said file:\n",
    "\n",
    "```\n",
    "[main]\n",
    "plugins=keyfile\n",
    "\n",
    "[keyfile]\n",
    "unmanaged-devices=mac:xx:xx:xx:xx:xx:xx\n",
    "```\n",
    "\n",
    "The correct MAC address can be found running the command `iw dev`"
   ]
  },
  {
   "cell_type": "markdown",
   "metadata": {},
   "source": [
    "## Tshark for packet capturing"
   ]
  },
  {
   "cell_type": "markdown",
   "metadata": {},
   "source": [
    "The script used for capturing the packets is the following\n",
    "```bash\n",
    "if [ \"$#\" -ne 2 ]; then\n",
    "    echo \"Input the mw and the data rate as arguments\"\n",
    "    echo \"Usage: ./capture.sh xx yy\"\n",
    "    echo \"xx: mw\"\n",
    "    echo \"yy: mbps\"\n",
    "    exit 1\n",
    "fi\n",
    "\n",
    "tshark -i mon0 -f \"udp && host 192.168.1.144 && port 53524\" \\\n",
    "    -w \"$(date +%F_%H_%M)_$1mw_$2mbps.pcapng\" -T fields -E separator=' ; ' \\\n",
    "    -e wlan.fcs_bad -e radiotap.dbm_antsignal -e radiotap.datarate\n",
    "```\n",
    "\n",
    "* -i interface\n",
    "* -f is the capture filter (we only want to capture the UDP packets sent from the raspi)\n",
    "* -w name of the output file\n",
    "* -T We want to display some packets fields in console\n",
    "* -e specify which fields (fcs broken and signal strength in dBm)"
   ]
  },
  {
   "cell_type": "markdown",
   "metadata": {},
   "source": [
    "# Analyzing the data"
   ]
  },
  {
   "cell_type": "code",
   "execution_count": 1,
   "metadata": {
    "collapsed": false
   },
   "outputs": [
    {
     "name": "stdout",
     "output_type": "stream",
     "text": [
      "Using matplotlib backend: Qt5Agg\n"
     ]
    }
   ],
   "source": [
    "%matplotlib \n",
    "import pyshark\n",
    "import pandas as pd\n",
    "import numpy as np\n",
    "import pickle\n",
    "import matplotlib.pyplot as plt\n",
    "# import binascii\n",
    "import timeit\n",
    "import os"
   ]
  },
  {
   "cell_type": "markdown",
   "metadata": {},
   "source": [
    "Some constants"
   ]
  },
  {
   "cell_type": "code",
   "execution_count": 2,
   "metadata": {
    "collapsed": true
   },
   "outputs": [],
   "source": [
    "TOTAL_BITS = 400\n",
    "AP_MAC = '58:6d:8f:d3:5e:70'"
   ]
  },
  {
   "cell_type": "code",
   "execution_count": 3,
   "metadata": {
    "collapsed": false
   },
   "outputs": [],
   "source": [
    "# See the plots in Jupyter env\n",
    "# %pylab inline"
   ]
  },
  {
   "cell_type": "markdown",
   "metadata": {},
   "source": [
    "## Loading the captured packets"
   ]
  },
  {
   "cell_type": "code",
   "execution_count": 4,
   "metadata": {
    "collapsed": true
   },
   "outputs": [],
   "source": [
    "# file = 'test_capture.pcapng'\n",
    "# file = 'gvsp.pcapng'\n",
    "# file = 'bigger test.pcapng'\n",
    "# file = 'test_for_weekend.pcapng'\n",
    "# file = '30-11-15_54mbps_1mw.pcapng'\n",
    "# file = '2015-12-04_17_25.pcapng' # Testing automated measurements\n",
    "# file = '2015-12-07_11_51.pcapng' # Test across the rooms\n",
    "file = '2015-12-09_14_36_60mw_manymbps.pcapng' # First automated test\n",
    "\n",
    "\n",
    "\n",
    "cap = pyshark.FileCapture(file)"
   ]
  },
  {
   "cell_type": "markdown",
   "metadata": {},
   "source": [
    "## Extracting information"
   ]
  },
  {
   "cell_type": "markdown",
   "metadata": {},
   "source": [
    "### Filter the CRC broken packets"
   ]
  },
  {
   "cell_type": "code",
   "execution_count": null,
   "metadata": {
    "collapsed": false
   },
   "outputs": [],
   "source": [
    "# Lets measure the time it takes to complete this\n",
    "start_time = timeit.default_timer()\n",
    "\n",
    "broken_pkts = [pkt for pkt in cap if pkt.wlan.fcs_bad == '1']\n",
    "\n",
    "print ('Time taken: {} seconds'.format(timeit.default_timer() - start_time))\n",
    "\n",
    "total_broken_pkts = len(broken_pkts)"
   ]
  },
  {
   "cell_type": "markdown",
   "metadata": {},
   "source": [
    "#### Make a dataframe with all the files"
   ]
  },
  {
   "cell_type": "code",
   "execution_count": null,
   "metadata": {
    "collapsed": true
   },
   "outputs": [],
   "source": [
    "# file_list = ['2015-12-07_16_31_60mw_1mbps.pcapng', '2015-12-07_17_04_60mw_9mbps.pcapng',\n",
    "#              '2015-12-07_17_36_60mw_18mbps.pcapng', '2015-12-07_18_11_60mw_36mbps.pcapng',\n",
    "#              '2015-12-07_18_55_60mw_54mbps.pcapng']\n",
    "\n",
    "file_list = ['2015-12-08_14_51_60mw_1mbps.pcapng', '2015-12-08_15_26_60mw_55mbps.pcapng',\n",
    "             '2015-12-08_14_14_60mw_9mbps.pcapng', '2015-12-08_16_00_60mw_12mbps.pcapng',\n",
    "             '2015-12-08_13_38_60mw_18mbps.pcapng', '2015-12-08_12_48_60mw_36mbps.pcapng',\n",
    "             '2015-12-08_11_59_60mw_54mbps.pcapng']"
   ]
  },
  {
   "cell_type": "code",
   "execution_count": null,
   "metadata": {
    "collapsed": false
   },
   "outputs": [],
   "source": [
    "start_time = timeit.default_timer()\n",
    "\n",
    "broken_pkts = []\n",
    "for pcap in file_list:\n",
    "    print(\"reading file: \" + pcap)\n",
    "    cap = pyshark.FileCapture(pcap)\n",
    "    for pkt in cap:\n",
    "        if pkt.wlan.fcs_bad == '1':\n",
    "            broken_pkts.append(pkt)\n",
    "\n",
    "print ('Time taken: {} seconds'.format(timeit.default_timer() - start_time))\n",
    "\n",
    "total_broken_pkts = len(broken_pkts)"
   ]
  },
  {
   "cell_type": "markdown",
   "metadata": {},
   "source": [
    "We use pandas to build the data frame with some usefull columns:"
   ]
  },
  {
   "cell_type": "code",
   "execution_count": null,
   "metadata": {
    "collapsed": false
   },
   "outputs": [],
   "source": [
    "# Broken data as a string\n",
    "data = []\n",
    "data_rate = []\n",
    "rssi = []\n",
    "tx_mac = []\n",
    "is_broken = []\n",
    "for pkt in broken_pkts:\n",
    "# for pkt in pkts:\n",
    "    # Data\n",
    "    try:\n",
    "        data.append(pkt.data.data)\n",
    "    except(AttributeError):\n",
    "        continue\n",
    "    # Data rate\n",
    "    try:\n",
    "        data_rate.append(float(pkt.radiotap.datarate))\n",
    "    except:\n",
    "        data.pop()\n",
    "        continue\n",
    "    # RSSI\n",
    "    try:\n",
    "        rssi.append(int(pkt.radiotap.dbm_antsignal))\n",
    "    except:\n",
    "        data.pop()\n",
    "        data_rate.pop()\n",
    "        continue\n",
    "    # Transmitter MAC Address\n",
    "    try:\n",
    "        tx_mac.append(pkt.wlan.ta)\n",
    "    except:\n",
    "        data.pop()\n",
    "        data_rate.pop()\n",
    "        rssi.pop()\n",
    "        continue\n",
    "    # CRC failed\n",
    "    try:\n",
    "        is_broken.append(bool(pkt.wlan.fcs_bad))\n",
    "    except:\n",
    "        data.pop()\n",
    "        data_rate.pop()\n",
    "        rssi.pop()\n",
    "        tx_mac.pop()\n",
    "        continue\n",
    "\n",
    "fields={'Data':data,'Data_rate':data_rate,'RSSI':rssi,'Tx_mac':tx_mac,'Broken':is_broken}\n",
    "p_data = pd.DataFrame(fields)\n",
    "# ==========\n",
    "\n",
    "# Add a column stating if the AP sent the packet\n",
    "p_data['AP_pkt'] = p_data['Tx_mac'].apply(lambda x: x == '58:6d:8f:d3:5e:70')\n",
    "# ==========\n",
    "\n",
    "# Add a column stating if the data has the right length\n",
    "p_data['Right_Length'] = p_data['Data'].apply(lambda x: len(x) == 100)\n",
    "# ==========\n",
    "\n",
    "# Add a column with Binary Data\n",
    "def str2bin(number):\n",
    "    decimal_number = int(number,16)\n",
    "    # Do not return the '0b' at the beginning and fill with zeroes\n",
    "    return bin(decimal_number)[2:].zfill(8)\n",
    "\n",
    "def data_to_bin(data):\n",
    "    return [str2bin(data[byte : byte+2]) for byte in range(0, len(data),2)]\n",
    "\n",
    "def bytes_to_binarray(list_of_bytes):\n",
    "    temp_str = ''\n",
    "    for byte in list_of_bytes:\n",
    "        temp_str = temp_str + byte\n",
    "    return temp_str\n",
    "\n",
    "p_data['Data_bin'] = p_data['Data'].apply(data_to_bin)\n",
    "p_data['Data_bin'] = p_data['Data_bin'].apply(bytes_to_binarray)\n",
    "# ==========\n",
    "\n",
    "# Add column with number of bits flipped\n",
    "p_data['Flipped_bits'] = p_data['Data_bin'].apply(lambda x: x.count('1'))\n",
    "# ==========\n",
    "\n",
    "# Save DF\n",
    "p_data.to_msgpack('test.msg')\n",
    "# =========="
   ]
  },
  {
   "cell_type": "code",
   "execution_count": null,
   "metadata": {
    "collapsed": true
   },
   "outputs": [],
   "source": [
    "# If we saved the dataframe, we can load it here\n",
    "p_data = pd.read_msgpack('across_rooms_day2_30_mins_each.msg')"
   ]
  },
  {
   "cell_type": "markdown",
   "metadata": {
    "collapsed": false,
    "scrolled": true
   },
   "source": [
    "Count the number of packets with the right and wrong length"
   ]
  },
  {
   "cell_type": "code",
   "execution_count": null,
   "metadata": {
    "collapsed": false
   },
   "outputs": [],
   "source": [
    "# Group the packets in right/wrong length and count the number of occurences\n",
    "lengths = p_data.groupby(['Right_Length']).size()\n",
    "\n",
    "# Right length\n",
    "total_broken_pkts_true_length = lengths[True]\n",
    "\n",
    "# Wrong length\n",
    "total_broken_pkts_false_length = lengths[False]"
   ]
  },
  {
   "cell_type": "markdown",
   "metadata": {},
   "source": [
    "### Percentage of broken packets"
   ]
  },
  {
   "cell_type": "code",
   "execution_count": null,
   "metadata": {
    "collapsed": false
   },
   "outputs": [],
   "source": [
    "# # Total packets captured sent from the AP\n",
    "# # We get this number doing a system call to tshark: tshark -r 2015-12-07_11_51.pcapng -Y 'wlan.ta==58:6d:8f:d3:5e:70 && wlan.fcs_bad==true' | wc -l\n",
    "# command = 'tshark -r ' + file + ' -Y \\'wlan.ta==' + AP_MAC + '\\' | wc -l'\n",
    "# total_pkts_AP = np.int64(os.popen(command).read())\n",
    "\n",
    "# Percentage of useful broken packets. I.e., *Sent from AP; *Correct length; *IP from Raspi (@capture time); *Right port (@capture time)\n",
    "total_useful_broken_packets = np.int64(len(p_data[(p_data['Right_Length'] == True) &(p_data['AP_pkt'] == True)].index))\n",
    "percentage_broken_pkts = total_useful_broken_packets / total_pkts_AP *100\n",
    "\n",
    "# print (\"Percentage of broken packets = {}\".format(percentage_broken_pkts))\n",
    "\n",
    "# Extract all the measured data rates\n",
    "data_rates = pd.unique(p_data[p_data['AP_pkt'] == True].Data_rate.ravel())\n",
    "\n",
    "total_pkts_AP = np.int64(0)\n",
    "for file in file_list:\n",
    "    # Total packets captured sent from the AP\n",
    "    # We get this number doing a system call to tshark: tshark -r 2015-12-07_11_51.pcapng -Y 'wlan.ta==58:6d:8f:d3:5e:70 && wlan.fcs_bad==true' | wc -l\n",
    "    command = 'tshark -r ' + file + ' -Y \\'wlan.ta==' + AP_MAC + '\\' | wc -l'\n",
    "    print (command)\n",
    "    total_pkts_AP += np.int64(os.popen(command).read())\n",
    "\n",
    "percentage_broken_pkts = total_useful_broken_packets / total_pkts_AP *100\n",
    "print (\"Percentage of broken packets = {}\".format(percentage_broken_pkts))\n",
    "total_pkts_AP"
   ]
  },
  {
   "cell_type": "markdown",
   "metadata": {},
   "source": [
    "## Bits flipped"
   ]
  },
  {
   "cell_type": "markdown",
   "metadata": {},
   "source": [
    "Create a vector containing the number of bits flipped in specific locations"
   ]
  },
  {
   "cell_type": "code",
   "execution_count": null,
   "metadata": {
    "collapsed": false
   },
   "outputs": [],
   "source": [
    "# Empty vector\n",
    "flips_occurences = [0]*TOTAL_BITS\n",
    "\n",
    "# Operate only over data packets of the right size\n",
    "right_size_data = p_data[p_data['Right_Length'] == True]['Data_bin']\n",
    "\n",
    "for row in right_size_data:\n",
    "    # Traverse the vector\n",
    "    for i,x in enumerate(row):\n",
    "        # If the value is a '1' add one to the vector of flips_occurences\n",
    "        if x == '1':\n",
    "            flips_occurences[i] = flips_occurences[i] + 1"
   ]
  },
  {
   "cell_type": "markdown",
   "metadata": {},
   "source": [
    "Plot the histogram with flip ocurrences"
   ]
  },
  {
   "cell_type": "code",
   "execution_count": null,
   "metadata": {
    "collapsed": false,
    "scrolled": true
   },
   "outputs": [],
   "source": [
    "fig = plt.figure()\n",
    "plt.plot(range(len(flips_occurences)),flips_occurences / total_useful_broken_packets)\n",
    "plt.show()"
   ]
  },
  {
   "cell_type": "markdown",
   "metadata": {},
   "source": [
    "### Average number of flipped bits"
   ]
  },
  {
   "cell_type": "code",
   "execution_count": null,
   "metadata": {
    "collapsed": false
   },
   "outputs": [],
   "source": [
    "p_data[p_data['Right_Length'] == True]['Flipped_bits'].mean()"
   ]
  },
  {
   "cell_type": "markdown",
   "metadata": {},
   "source": [
    "# =========================================================\n",
    "### Cells for testing code\n",
    "# ========================================================="
   ]
  },
  {
   "cell_type": "code",
   "execution_count": null,
   "metadata": {
    "collapsed": false
   },
   "outputs": [],
   "source": [
    "len(data_rates)\n",
    "data_rates"
   ]
  },
  {
   "cell_type": "code",
   "execution_count": null,
   "metadata": {
    "collapsed": false
   },
   "outputs": [],
   "source": [
    "from mpl_toolkits.mplot3d import Axes3D\n",
    "fig = plt.figure()\n",
    "ax = fig.gca(projection='3d')\n",
    "# ax = fig.add_subplot(54,400,1, projection='3d')\n",
    "X = data_rates\n",
    "Y = range(TOTAL_BITS)\n",
    "X, Y = np.meshgrid(X, Y)\n",
    "\n",
    "\n",
    "\n",
    "ax.plot_wireframe(Y, X, o, rstride=0, cstride=1, antialiased=True)\n",
    "\n",
    "\n",
    "\n",
    "print('Shapes are ')\n",
    "print(X.shape)\n",
    "print(Y.shape)\n",
    "print(o.shape)\n",
    "plt.show()"
   ]
  },
  {
   "cell_type": "code",
   "execution_count": null,
   "metadata": {
    "collapsed": false
   },
   "outputs": [],
   "source": [
    "def flips_counter(rr):\n",
    "    flips = [0]*TOTAL_BITS\n",
    "    for row in rr['Data_bin']:\n",
    "        # Traverse the vector\n",
    "        for i,x in enumerate(row):\n",
    "            # If the value is a '1' add one to the vector of flips_occurences\n",
    "            if x == '1':\n",
    "                flips[i] = flips[i] + 1\n",
    "    return flips\n",
    "\n",
    "Z = p_data[(p_data['Right_Length'] == True) & (p_data['AP_pkt'] == True)][['Data_bin','Data_rate']].groupby('Data_rate').apply(flips_counter)\n",
    "xxxx=p_data.groupby('Data_rate',as_index=False).mean()['Data_rate']\n",
    "# Z = Z.a\n",
    "Z = Z.as_matrix()\n",
    "# print(Z)\n",
    "# shape(split(Z,1))\n",
    "# split(Z,1)[0][1][:]\n",
    "# np.zeros((3,3))\n",
    "# Z=resize(Z,[400,5])\n",
    "# np.reshape(Z,[400,5])\n",
    "o = []\n",
    "for i in Z:\n",
    "    o.append(i)\n",
    "    \n",
    "o=np.transpose(o)"
   ]
  },
  {
   "cell_type": "code",
   "execution_count": null,
   "metadata": {
    "collapsed": false
   },
   "outputs": [],
   "source": [
    "p_data\n"
   ]
  },
  {
   "cell_type": "code",
   "execution_count": null,
   "metadata": {
    "collapsed": false
   },
   "outputs": [],
   "source": [
    "cap = pyshark.FileCapture('2015-12-08_15_26_60mw_55mbps.pcapng')\n",
    "# Lets measure the time it takes to complete this\n",
    "start_time = timeit.default_timer()\n",
    "\n",
    "broken_pkts = [pkt for pkt in cap if pkt.wlan.fcs_bad == '1']\n",
    "\n",
    "print ('Time taken: {} seconds'.format(timeit.default_timer() - start_time))\n",
    "\n",
    "total_broken_pkts = len(broken_pkts)"
   ]
  },
  {
   "cell_type": "code",
   "execution_count": null,
   "metadata": {
    "collapsed": false
   },
   "outputs": [],
   "source": [
    "# Total packets captured sent from the AP\n",
    "# We get this number doing a system call to tshark: tshark -r 2015-12-07_11_51.pcapng -Y 'wlan.ta==58:6d:8f:d3:5e:70 && wlan.fcs_bad==true' | wc -l\n",
    "command = 'tshark -r ' + '2015-12-08_15_26_60mw_55mbps.pcapng' + ' -Y \\'wlan.ta==' + AP_MAC + '\\' | wc -l'\n",
    "total_pkts_AP = np.int64(os.popen(command).read())\n",
    "\n",
    "# Percentage of useful broken packets. I.e., *Sent from AP; *Correct length; *IP from Raspi (@capture time); *Right port (@capture time)\n",
    "total_useful_broken_packets = np.int64(len(p_data[(p_data['Right_Length'] == True) &(p_data['AP_pkt'] == True)].index))\n",
    "percentage_broken_pkts = total_useful_broken_packets / total_pkts_AP *100"
   ]
  },
  {
   "cell_type": "code",
   "execution_count": null,
   "metadata": {
    "collapsed": false
   },
   "outputs": [],
   "source": [
    "print (total_useful_broken_packets)\n",
    "print (percentage_broken_pkts)\n",
    "print (total_pkts_AP)"
   ]
  },
  {
   "cell_type": "code",
   "execution_count": null,
   "metadata": {
    "collapsed": false
   },
   "outputs": [],
   "source": [
    "p_data.to_msgpack('5.5')\n",
    "p_data2 = pd.read_msgpack('across_rooms_day2_30_mins_each.msg')\n",
    "p_data = pd.concat([p_data, p_data2])\n"
   ]
  },
  {
   "cell_type": "markdown",
   "metadata": {
    "collapsed": true
   },
   "source": [
    "# =========================================================\n",
    "### Deprecated\n",
    "# ========================================================="
   ]
  },
  {
   "cell_type": "markdown",
   "metadata": {},
   "source": [
    "Get the broken data from the packets as a string, hex values and binary array <span style=\"color:red;\">(Deprecated, it's done with Pandas now)</span> "
   ]
  },
  {
   "cell_type": "code",
   "execution_count": null,
   "metadata": {
    "collapsed": false
   },
   "outputs": [],
   "source": [
    "# # Broken data as a string\n",
    "# broken_data = [pkt.data.data for pkt in broken_pkts]\n",
    "\n",
    "\n",
    "# # filter out packets that have the wrong data length\n",
    "# broken_data = [x for x in broken_data if len(x) == 100]\n",
    "# total_broken_pkts_true_length = len(broken_data)\n",
    "# total_broken_pkts_false_length = total_broken_pkts - total_broken_pkts_true_length\n",
    "\n",
    "# # # Broken data as hex values\n",
    "# # hex_broken_data=[]\n",
    "# # count = 0\n",
    "# # for data in broken_data:\n",
    "# #     hex_broken_data.append([binascii.a2b_hex(data[byte:byte+2]) for byte in range(0, len(data),2)])\n",
    "# #     #print(byte)\n",
    "# #     count=count+1\n",
    "    \n",
    "# # Broken data as binary values\n",
    "# def str2bin(number):\n",
    "#     decimal_number = int(number,16)\n",
    "#     # Do not return the '0b' at the beginning and fill with zeroes\n",
    "#     return bin(decimal_number)[2:].zfill(8)\n",
    "# bin_broken_data = []\n",
    "# for data in broken_data:\n",
    "#     bin_broken_data.append([str2bin(data[byte : byte+2]) for byte in range(0, len(data),2)])\n",
    "\n",
    "\n"
   ]
  },
  {
   "cell_type": "markdown",
   "metadata": {},
   "source": [
    "Build a single array of bits per broken data  <span style=\"color:red;\">(Deprecated, it's done with Pandas now)</span> "
   ]
  },
  {
   "cell_type": "code",
   "execution_count": null,
   "metadata": {
    "collapsed": false
   },
   "outputs": [],
   "source": [
    "# temp = []\n",
    "# temp_str = ''\n",
    "# for data in bin_broken_data:\n",
    "#     for byte in data:\n",
    "#         temp_str = temp_str + byte\n",
    "#     temp.append(temp_str)\n",
    "#     temp_str=''\n",
    "\n",
    "# bin_broken_data = temp"
   ]
  },
  {
   "cell_type": "code",
   "execution_count": null,
   "metadata": {
    "collapsed": true
   },
   "outputs": [],
   "source": [
    "p_data.to_msgpack('across_rooms_day2_30_mins_each.msg')"
   ]
  },
  {
   "cell_type": "code",
   "execution_count": null,
   "metadata": {
    "collapsed": true
   },
   "outputs": [],
   "source": []
  },
  {
   "cell_type": "code",
   "execution_count": null,
   "metadata": {
    "collapsed": true
   },
   "outputs": [],
   "source": []
  }
 ],
 "metadata": {
  "kernelspec": {
   "display_name": "Python 3",
   "language": "python",
   "name": "python3"
  },
  "language_info": {
   "codemirror_mode": {
    "name": "ipython",
    "version": 3
   },
   "file_extension": ".py",
   "mimetype": "text/x-python",
   "name": "python",
   "nbconvert_exporter": "python",
   "pygments_lexer": "ipython3",
   "version": "3.5.0"
  }
 },
 "nbformat": 4,
 "nbformat_minor": 0
}
