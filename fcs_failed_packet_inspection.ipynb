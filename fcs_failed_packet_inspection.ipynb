{
 "cells": [
  {
   "cell_type": "markdown",
   "metadata": {},
   "source": [
    "# Table of Contents\n",
    "  * [Chapter 1](#chapter-1)\n",
    "  * [Analizing Data](#analizing-data)\n",
    "  * [Chapter 3](#chapter-3)"
   ]
  },
  {
   "cell_type": "markdown",
   "metadata": {},
   "source": [
    "# Sending the packets"
   ]
  },
  {
   "cell_type": "markdown",
   "metadata": {},
   "source": [
    "To change the datarate and the txpower in the router, ssh into it and run the following commands\n",
    "\n",
    "```bash\n",
    "# To change the data rate\n",
    "wl rate 11\n",
    "\n",
    "# To change the power\n",
    "wl txpwr1 -m 60 # mW\n",
    "# Or in dBm in steps of 0.25\n",
    "wl txpwr1 17.75 # 60 mW\n",
    "\n",
    "# To check the transission power\n",
    "wl txpwrlimit\n",
    "```\n",
    "\n",
    "All the available commands are here: http://www.dd-wrt.com/wiki/index.php/Wl_command"
   ]
  },
  {
   "cell_type": "markdown",
   "metadata": {},
   "source": [
    "## Broadcast case:"
   ]
  },
  {
   "cell_type": "markdown",
   "metadata": {},
   "source": [
    "A raspberry pi is broadcasting or unicasting packets which payloads consisting on just 0 bits\n",
    "\n",
    "The code for broadcasting is;\n",
    "\n",
    "```python\n",
    "# Send UDP broadcast packets\n",
    "\n",
    "import sys, time, array, os\n",
    "from socket import *\n",
    "\n",
    "rates = ['1', '2', '5.5', '6', '9', '11', '12', '18', '24', '36', '48', '54']\n",
    "rates_i = 0\n",
    "MYPORT = 53524\n",
    "# dest_ip = '<broadcast>'\n",
    "# My pc\n",
    "# dest_ip = '192.168.1.124'\n",
    "# Measurements PC\n",
    "dest_ip = '192.168.1.130'\n",
    "data = \"0\"*2500 # n/2 * 8 [bits] in total\n",
    "\n",
    "def change_ap_rate ():\n",
    "    global rates_i\n",
    "    global rates\n",
    "    rate = rates[rates_i]\n",
    "    command = 'ssh root@192.168.1.1 \\'wl rate ' + rate + '\\''\n",
    "    os.popen(command)\n",
    "    print ('Changing rate to {}Mbps'.format(rate) + ' using the following command '  + command)\n",
    "    # Increase the index for the next function call\n",
    "    rates_i += 1\n",
    "    if rates_i >= len(rates):\n",
    "        rates_i = 0\n",
    "\n",
    "# Check if n minute passed\n",
    "def has_minutes_passed(oldepoch,n):\n",
    "    return time.time() - oldepoch >= n*60\n",
    "\n",
    "def main():\n",
    "    # Initialize the rate to 1 Mbps\n",
    "    change_ap_rate()\n",
    "    pkts_sent = 0\n",
    "    oldepoch = time.time()\n",
    "    s = socket(AF_INET, SOCK_DGRAM)\n",
    "    s.bind(('', 0))\n",
    "    s.setsockopt(SOL_SOCKET, SO_BROADCAST, 1)\n",
    "    global data\n",
    "    data= data.decode('hex')\n",
    "\n",
    "    while 1:\n",
    "        s.sendto(data, (dest_ip, MYPORT))\n",
    "        pkts_sent += 1\n",
    "        #print data\n",
    "        # 5 minutes passed\n",
    "        if (has_minutes_passed(oldepoch,5)):\n",
    "            oldepoch = time.time()\n",
    "            print (pkts_sent)\n",
    "            pkts_sent = 0\n",
    "            change_ap_rate()\n",
    "\n",
    "        time.sleep(0.05)\n",
    "        #break\n",
    "\n",
    "if __name__ == \"__main__\":\n",
    "    main()\n",
    "```"
   ]
  },
  {
   "cell_type": "markdown",
   "metadata": {},
   "source": [
    "# Capturing the packets"
   ]
  },
  {
   "cell_type": "markdown",
   "metadata": {},
   "source": [
    "To capture the packets it is needed to set the NIC in monitor mode. The instructions are [here](https://sandilands.info/sgordon/capturing-wifi-in-monitor-mode-with-iw)"
   ]
  },
  {
   "cell_type": "markdown",
   "metadata": {},
   "source": [
    "## Setting up the monitor interface"
   ]
  },
  {
   "cell_type": "markdown",
   "metadata": {},
   "source": [
    "The only special consideration is that you need to include the flag for capturing packets with the FCS fail:\n",
    "\n",
    "```bash\n",
    "sudo iw phy phy0 interface add mon0 type monitor flags fcsfail\n",
    "```\n",
    "\n",
    "I do the following when using the USB dongle\n",
    "\n",
    "```bash\n",
    "sudo iw phy phy1 interface add mon0 type monitor flags fcsfail\n",
    "sudo iw dev wlp0s26u1u2 del\n",
    "sudo ifconfig mon0 up\n",
    "# Set it to channel 6\n",
    "sudo iw dev mon0 set freq 2437\n",
    "```"
   ]
  },
  {
   "cell_type": "markdown",
   "metadata": {},
   "source": [
    "### Troubleshooting: type doesn't change to monitor from managed"
   ]
  },
  {
   "cell_type": "markdown",
   "metadata": {},
   "source": [
    "If the type does not change, it is most likely because network manager is controlling the interface. For solving this, one must remove the interface from the `/etc/NetworkManager/NetworkManager.conf` file.\n",
    "\n",
    "Add these lines to said file:\n",
    "\n",
    "```\n",
    "[main]\n",
    "plugins=keyfile\n",
    "\n",
    "[keyfile]\n",
    "unmanaged-devices=mac:xx:xx:xx:xx:xx:xx\n",
    "```\n",
    "\n",
    "The correct MAC address can be found running the command `iw dev`"
   ]
  },
  {
   "cell_type": "markdown",
   "metadata": {},
   "source": [
    "## Tshark for packet capturing"
   ]
  },
  {
   "cell_type": "markdown",
   "metadata": {},
   "source": [
    "The script used for capturing the packets is the following\n",
    "```bash\n",
    "if [ \"$#\" -ne 2 ]; then\n",
    "    echo \"Input the mw and the data rate as arguments\"\n",
    "    echo \"Usage: ./capture.sh xx yy\"\n",
    "    echo \"xx: mw\"\n",
    "    echo \"yy: mbps\"\n",
    "    exit 1\n",
    "fi\n",
    "\n",
    "tshark -i mon0 -f \"udp && host 192.168.1.144 && port 53524\" \\\n",
    "    -w \"$(date +%F_%H_%M)_$1mw_$2mbps.pcapng\" -T fields -E separator=' ; ' \\\n",
    "    -e wlan.fcs_bad -e radiotap.dbm_antsignal -e radiotap.datarate\n",
    "```\n",
    "\n",
    "* -i interface\n",
    "* -f is the capture filter (we only want to capture the UDP packets sent from the raspi)\n",
    "* -w name of the output file\n",
    "* -T We want to display some packets fields in console\n",
    "* -e specify which fields (fcs broken and signal strength in dBm)"
   ]
  },
  {
   "cell_type": "markdown",
   "metadata": {},
   "source": [
    "# Analyzing the data <a id=\"analizing-data\"></a>"
   ]
  },
  {
   "cell_type": "code",
   "execution_count": 1,
   "metadata": {
    "collapsed": false
   },
   "outputs": [
    {
     "name": "stdout",
     "output_type": "stream",
     "text": [
      "Using matplotlib backend: Qt5Agg\n"
     ]
    }
   ],
   "source": [
    "%matplotlib\n",
    "# import mpld3\n",
    "# mpld3.enable_notebook()\n",
    "\n",
    "import pyshark\n",
    "import pandas as pd\n",
    "import numpy as np\n",
    "import matplotlib.pyplot as plt\n",
    "# import binascii\n",
    "import timeit\n",
    "import os"
   ]
  },
  {
   "cell_type": "markdown",
   "metadata": {},
   "source": [
    "Pretty plots:"
   ]
  },
  {
   "cell_type": "code",
   "execution_count": 2,
   "metadata": {
    "collapsed": false
   },
   "outputs": [],
   "source": [
    "from matplotlib import rcParams, rc\n",
    "rcParams.update({'figure.autolayout': True})\n",
    "rcParams['lines.linewidth'] = 1\n",
    "rcParams['lines.markeredgewidth'] = 1\n",
    "rcParams['lines.markersize'] = 7\n",
    "rcParams['text.usetex'] = True\n",
    "\n",
    "#plt.autoscale(enable=True,axis='both',tight=True)\n",
    "\n",
    "font = {'family': 'sans-serif','sans-serif': 'Arial', 'weight': 'normal', 'size': 18}\n",
    "rc('font', **font)"
   ]
  },
  {
   "cell_type": "markdown",
   "metadata": {},
   "source": [
    "Some constants"
   ]
  },
  {
   "cell_type": "code",
   "execution_count": 3,
   "metadata": {
    "collapsed": true
   },
   "outputs": [],
   "source": [
    "# TOTAL_BITS = 400\n",
    "TOTAL_BITS = 10000\n",
    "AP_MAC = '58:6d:8f:d3:5e:70'"
   ]
  },
  {
   "cell_type": "markdown",
   "metadata": {},
   "source": [
    "## Loading the captured packets"
   ]
  },
  {
   "cell_type": "code",
   "execution_count": 4,
   "metadata": {
    "collapsed": true
   },
   "outputs": [],
   "source": [
    "# file = 'test_capture.pcapng'\n",
    "# file = 'gvsp.pcapng'\n",
    "# file = 'bigger test.pcapng'\n",
    "# file = 'test_for_weekend.pcapng'\n",
    "# file = '30-11-15_54mbps_1mw.pcapng'\n",
    "# file = '2015-12-04_17_25.pcapng' # Testing automated measurements\n",
    "# file = '2015-12-07_11_51.pcapng' # Test across the rooms\n",
    "# file = '2015-12-09_14_36_60mw_manymbps.pcapng' # First automated test\n",
    "file = '2015-12-09_17_12_60mw_all_nightmbps.pcapng' # Big automated\n",
    "# file = '2015-12-09_18_33_60mw_all_night2mbps.pcapng' # ALL NIGHT!\n",
    "\n",
    "cap = pyshark.FileCapture(file)"
   ]
  },
  {
   "cell_type": "markdown",
   "metadata": {},
   "source": [
    "## Extracting information"
   ]
  },
  {
   "cell_type": "markdown",
   "metadata": {},
   "source": [
    "### Filter the CRC broken packets"
   ]
  },
  {
   "cell_type": "markdown",
   "metadata": {},
   "source": [
    "We use pandas to build the data frame with some usefull columns:"
   ]
  },
  {
   "cell_type": "code",
   "execution_count": null,
   "metadata": {
    "collapsed": false
   },
   "outputs": [],
   "source": [
    "# Broken data as a string\n",
    "data = []\n",
    "data_rate = []\n",
    "rssi = []\n",
    "tx_mac = []\n",
    "is_broken = []\n",
    "# for pkt in broken_pkts:\n",
    "for pkt in cap:\n",
    "    if pkt.wlan.fcs_bad == '1':\n",
    "# for pkt in pkts:\n",
    "        # Data\n",
    "        try:\n",
    "            data.append(pkt.data.data.replace(':',''))\n",
    "        except(AttributeError):\n",
    "            continue\n",
    "        # Data rate\n",
    "        try:\n",
    "            data_rate.append(float(pkt.radiotap.datarate))\n",
    "        except:\n",
    "            data.pop()\n",
    "            continue\n",
    "        # RSSI\n",
    "        try:\n",
    "            rssi.append(int(pkt.radiotap.dbm_antsignal))\n",
    "        except:\n",
    "            data.pop()\n",
    "            data_rate.pop()\n",
    "            continue\n",
    "        # Transmitter MAC Address\n",
    "        try:\n",
    "            tx_mac.append(pkt.wlan.ta)\n",
    "        except:\n",
    "            data.pop()\n",
    "            data_rate.pop()\n",
    "            rssi.pop()\n",
    "            continue\n",
    "\n",
    "\n",
    "fields={'Data':data,'Data_rate':data_rate,'RSSI':rssi,'Tx_mac':tx_mac,'Broken':is_broken}\n",
    "p_data = pd.DataFrame(fields)\n",
    "# ==========\n",
    "\n",
    "# Add a column stating if the AP sent the packet\n",
    "p_data['AP_pkt'] = p_data['Tx_mac'].apply(lambda x: x == '58:6d:8f:d3:5e:70')\n",
    "# ==========\n",
    "\n",
    "\n",
    "# Add a column with Binary Data\n",
    "def str2bin(number):\n",
    "    decimal_number = int(number,16)\n",
    "    # Do not return the '0b' at the beginning and fill with zeroes\n",
    "    return bin(decimal_number)[2:].zfill(8)\n",
    "\n",
    "def data_to_bin(data):\n",
    "    return [str2bin(data[byte : byte+2]) for byte in range(0, len(data),2)]\n",
    "\n",
    "def bytes_to_binarray(list_of_bytes):\n",
    "    temp_str = ''\n",
    "    for byte in list_of_bytes:\n",
    "        temp_str = temp_str + byte\n",
    "    return temp_str\n",
    "\n",
    "p_data['Data_bin'] = p_data['Data'].apply(data_to_bin)\n",
    "p_data['Data_bin'] = p_data['Data_bin'].apply(bytes_to_binarray)\n",
    "# ==========\n",
    "\n",
    "# Add a column stating if the data has the right length\n",
    "# p_data['Right_Length'] = p_data['Data'].apply(lambda x: len(x) == 100)\n",
    "p_data['Right_Length'] = p_data['Data_bin'].apply(lambda x: len(x) == TOTAL_BITS)\n",
    "# ==========\n",
    "\n",
    "# Add column with number of bits flipped\n",
    "p_data['Flipped_bits'] = p_data['Data_bin'].apply(lambda x: x.count('1'))\n",
    "# ==========\n",
    "\n",
    "# Save DF\n",
    "p_data.to_msgpack('test.msg')\n",
    "# =========="
   ]
  },
  {
   "cell_type": "code",
   "execution_count": 5,
   "metadata": {
    "collapsed": true
   },
   "outputs": [],
   "source": [
    "# If we saved the dataframe, we can load it here\n",
    "p_data = pd.read_msgpack('across_rooms_automated.msg')"
   ]
  },
  {
   "cell_type": "markdown",
   "metadata": {
    "collapsed": false,
    "scrolled": true
   },
   "source": [
    "Count the number of packets with the right and wrong length"
   ]
  },
  {
   "cell_type": "code",
   "execution_count": 6,
   "metadata": {
    "collapsed": false
   },
   "outputs": [
    {
     "name": "stdout",
     "output_type": "stream",
     "text": [
      "Right_Length\n",
      "False      982\n",
      "True     27954\n",
      "dtype: int64\n"
     ]
    }
   ],
   "source": [
    "# Group the packets in right/wrong length and count the number of occurences\n",
    "lengths = p_data.groupby(['Right_Length']).size()\n",
    "print(lengths)\n",
    "# Right length\n",
    "total_broken_pkts_true_length = lengths[True]\n",
    "\n",
    "# Wrong length\n",
    "total_broken_pkts_false_length = lengths[False]"
   ]
  },
  {
   "cell_type": "markdown",
   "metadata": {},
   "source": [
    "### Percentage of broken packets"
   ]
  },
  {
   "cell_type": "code",
   "execution_count": 7,
   "metadata": {
    "collapsed": false
   },
   "outputs": [
    {
     "name": "stdout",
     "output_type": "stream",
     "text": [
      "Percentage of broken packets = 19.24734794413189\n"
     ]
    }
   ],
   "source": [
    "# # Total packets captured sent from the AP\n",
    "# # We get this number doing a system call to tshark: tshark -r 2015-12-07_11_51.pcapng -Y 'wlan.ta==58:6d:8f:d3:5e:70 && wlan.fcs_bad==true' | wc -l\n",
    "command = 'tshark -r ' + file + ' -Y \\'wlan.ta==' + AP_MAC + '\\' | wc -l'\n",
    "total_pkts_AP = np.int64(os.popen(command).read())\n",
    "\n",
    "# Percentage of useful broken packets. I.e., *Sent from AP; *Correct length; *IP from Raspi (@capture time); *Right port (@capture time)\n",
    "total_useful_broken_packets = np.int64(len(p_data[(p_data['Right_Length'] == True) &(p_data['AP_pkt'] == True)].index))\n",
    "percentage_broken_pkts = total_useful_broken_packets / total_pkts_AP *100\n",
    "\n",
    "print (\"Percentage of broken packets = {}\".format(percentage_broken_pkts))\n",
    "\n",
    "# Extract all the measured data rates\n",
    "data_rates = pd.unique(p_data[p_data['AP_pkt'] == True].Data_rate.ravel())\n",
    "\n",
    "# Extract all the measured RSSIs\n",
    "rssis = pd.unique(p_data[p_data['AP_pkt'] == True].RSSI.ravel())\n",
    "rssis.sort()"
   ]
  },
  {
   "cell_type": "markdown",
   "metadata": {},
   "source": [
    "### Percentage of broken packets per data rate"
   ]
  },
  {
   "cell_type": "code",
   "execution_count": 8,
   "metadata": {
    "collapsed": false
   },
   "outputs": [],
   "source": [
    "pkts_captured=[]\n",
    "for dr in data_rates:\n",
    "    command = 'tshark -r ' + file + ' -Y \\'wlan.ta==' + AP_MAC +' && wlan_radio.data_rate == {}'.format(dr) + '\\' | wc -l'\n",
    "    pkts_captured.append(np.int64(os.popen(command).read()))"
   ]
  },
  {
   "cell_type": "code",
   "execution_count": 9,
   "metadata": {
    "collapsed": false
   },
   "outputs": [
    {
     "data": {
      "text/plain": [
       "142908"
      ]
     },
     "execution_count": 9,
     "metadata": {},
     "output_type": "execute_result"
    }
   ],
   "source": [
    "total_pkts_AP"
   ]
  },
  {
   "cell_type": "markdown",
   "metadata": {},
   "source": [
    "## Bits flipped"
   ]
  },
  {
   "cell_type": "markdown",
   "metadata": {},
   "source": [
    "Create a vector containing the number of bits flipped in specific locations"
   ]
  },
  {
   "cell_type": "code",
   "execution_count": 10,
   "metadata": {
    "collapsed": false
   },
   "outputs": [],
   "source": [
    "# Empty vector\n",
    "total_flips_occurences = [0]*TOTAL_BITS\n",
    "\n",
    "# Operate only over data packets of the right size\n",
    "right_size_data = p_data[(p_data['Right_Length'] == True) & (p_data['AP_pkt'] == True)]['Data_bin']\n",
    "\n",
    "for row in right_size_data:\n",
    "    # Traverse the vector\n",
    "    for i,x in enumerate(row):\n",
    "        # If the value is a '1' add one to the vector of flips_occurences\n",
    "        if x == '1':\n",
    "            total_flips_occurences[i] = total_flips_occurences[i] + 1"
   ]
  },
  {
   "cell_type": "markdown",
   "metadata": {},
   "source": [
    "Plot flip ocurrences"
   ]
  },
  {
   "cell_type": "code",
   "execution_count": null,
   "metadata": {
    "collapsed": false,
    "scrolled": true
   },
   "outputs": [],
   "source": [
    "fig = plt.figure()\n",
    "plt.plot(range(len(total_flips_occurences)),total_flips_occurences / total_useful_broken_packets)\n",
    "plt.show()"
   ]
  },
  {
   "cell_type": "markdown",
   "metadata": {},
   "source": [
    "### Multiple plots"
   ]
  },
  {
   "cell_type": "code",
   "execution_count": 27,
   "metadata": {
    "collapsed": false
   },
   "outputs": [],
   "source": [
    "def flips_counter(rr):\n",
    "    flips = [0]*TOTAL_BITS\n",
    "    for row in rr['Data_bin']:\n",
    "        # Traverse the vector\n",
    "        for i,x in enumerate(row):\n",
    "            # If the value is a '1' add one to the vector of flips_occurences\n",
    "            if x == '1':\n",
    "                flips[i] = flips[i] + 1\n",
    "    return flips\n",
    "\n",
    "# For packets coming from the AP and with the right length count the number of bits flipped\n",
    "flips_occurences = p_data[(p_data['Right_Length'] == True) & (p_data['AP_pkt'] == True)][['Data_bin','Data_rate']]\n",
    "flips_occurences = flips_occurences.groupby('Data_rate').apply(flips_counter)\n",
    "\n",
    "flips_occurences_rssi = p_data[(p_data['Right_Length'] == True) & (p_data['AP_pkt'] == True)][['Data_bin','RSSI']]\n",
    "flips_occurences_rssi = flips_occurences_rssi.groupby('RSSI').apply(flips_counter)\n",
    "\n",
    "# Calculate the useful packets per data rate and rssi\n",
    "useful_broken_packets = p_data[(p_data['Right_Length'] == True) & (p_data['AP_pkt'] == True)].groupby('Data_rate').size()\n",
    "df_useful_broken_packets = pd.DataFrame(useful_broken_packets,columns=['Useful_broken_packets'])\n",
    "useful_broken_packets_rssi = p_data[(p_data['Right_Length'] == True) & (p_data['AP_pkt'] == True)].groupby('RSSI').size()\n",
    "df_useful_broken_packets_rssi = pd.DataFrame(useful_broken_packets_rssi,columns=['Useful_broken_packets'])\n",
    "# ========\n",
    "\n",
    "# Normalize the number of bits flipped by the total useful broken packets at that data rate\n",
    "flips_occurences_norm = flips_occurences.copy()\n",
    "it = 0\n",
    "for row in flips_occurences:\n",
    "    flips_occurences_norm.loc[data_rates[it]] = row / useful_broken_packets.loc[data_rates[it]]\n",
    "    it += 1\n",
    "flips_occurences_norm\n",
    "# ========\n",
    "\n",
    "# Normalize the number of bits flipped by the total useful broken packets at that RSSI\n",
    "flips_occurences_norm_rssi = flips_occurences_rssi.copy()\n",
    "it = 0\n",
    "for row in flips_occurences_norm_rssi:\n",
    "    flips_occurences_norm_rssi.loc[rssis[it]] = row / useful_broken_packets_rssi.loc[rssis[it]]\n",
    "    it += 1\n",
    "# ========"
   ]
  },
  {
   "cell_type": "code",
   "execution_count": 21,
   "metadata": {
    "collapsed": false
   },
   "outputs": [
    {
     "data": {
      "text/plain": [
       "<matplotlib.text.Text at 0x7f4e5a583e10>"
      ]
     },
     "execution_count": 21,
     "metadata": {},
     "output_type": "execute_result"
    }
   ],
   "source": [
    "def get_color():\n",
    "    for item in ('b','g','r','c','m','y','k','#F0A804','#99FF00','#FF6600','#8C5757','#F200FF','#808080'):\n",
    "        yield item\n",
    "\n",
    "rcParams['lines.linewidth'] = 0.5\n",
    "color = get_color()\n",
    "fig = plt.figure()\n",
    "seq = np.arange(TOTAL_BITS)\n",
    "for row in flips_occurences_norm:\n",
    "    acolor = next(color)\n",
    "    plt.semilogy(seq,row,acolor)\n",
    "\n",
    "plt.legend(data_rates.astype('str'),loc='best',title='Data rates')\n",
    "plt.grid()\n",
    "plt.xlabel(\"Bit in the payload\")\n",
    "plt.ylabel(\"Probability of flip\")\n",
    "plt.title('Probabilty of individial bit flips in a broken packet for different data rates. Payload size: {} bits'.format(TOTAL_BITS))\n",
    "# plt.savefig(\"figure.png\",format=\"png\", dpi=600)"
   ]
  },
  {
   "cell_type": "code",
   "execution_count": null,
   "metadata": {
    "collapsed": false
   },
   "outputs": [],
   "source": [
    "# # color = get_color()\n",
    "# fig = plt.figure()\n",
    "# seq = np.arange(TOTAL_BITS)\n",
    "# for row in flips_occurences_norm_rssi:\n",
    "# #     acolor = next(color)\n",
    "#     plt.semilogy(seq,row)\n",
    "\n",
    "# plt.legend(rssis.astype('str'))\n",
    "# plt.grid()"
   ]
  },
  {
   "cell_type": "markdown",
   "metadata": {},
   "source": [
    "3d plots"
   ]
  },
  {
   "cell_type": "markdown",
   "metadata": {},
   "source": [
    "### Average number of flipped bits"
   ]
  },
  {
   "cell_type": "code",
   "execution_count": 13,
   "metadata": {
    "collapsed": false,
    "scrolled": false
   },
   "outputs": [
    {
     "data": {
      "text/html": [
       "<div>\n",
       "<table border=\"1\" class=\"dataframe\">\n",
       "  <thead>\n",
       "    <tr style=\"text-align: right;\">\n",
       "      <th></th>\n",
       "      <th>Pkts_captured</th>\n",
       "      <th>Useful_broken_packets</th>\n",
       "      <th>Useful_broken_packets_p</th>\n",
       "      <th>Avrg_flipped_bits</th>\n",
       "      <th>Avrg_flipped_bits_p</th>\n",
       "    </tr>\n",
       "    <tr>\n",
       "      <th>Data_rate</th>\n",
       "      <th></th>\n",
       "      <th></th>\n",
       "      <th></th>\n",
       "      <th></th>\n",
       "      <th></th>\n",
       "    </tr>\n",
       "  </thead>\n",
       "  <tbody>\n",
       "    <tr>\n",
       "      <th>1.0</th>\n",
       "      <td>15842</td>\n",
       "      <td>4168</td>\n",
       "      <td>26.309809</td>\n",
       "      <td>388.525672</td>\n",
       "      <td>3.885257</td>\n",
       "    </tr>\n",
       "    <tr>\n",
       "      <th>2.0</th>\n",
       "      <td>13062</td>\n",
       "      <td>1446</td>\n",
       "      <td>11.070280</td>\n",
       "      <td>752.591286</td>\n",
       "      <td>7.525913</td>\n",
       "    </tr>\n",
       "    <tr>\n",
       "      <th>5.5</th>\n",
       "      <td>12039</td>\n",
       "      <td>472</td>\n",
       "      <td>3.920591</td>\n",
       "      <td>1293.288136</td>\n",
       "      <td>12.932881</td>\n",
       "    </tr>\n",
       "    <tr>\n",
       "      <th>6.0</th>\n",
       "      <td>9815</td>\n",
       "      <td>480</td>\n",
       "      <td>4.890474</td>\n",
       "      <td>1459.070833</td>\n",
       "      <td>14.590708</td>\n",
       "    </tr>\n",
       "    <tr>\n",
       "      <th>9.0</th>\n",
       "      <td>6470</td>\n",
       "      <td>602</td>\n",
       "      <td>9.304482</td>\n",
       "      <td>1735.692691</td>\n",
       "      <td>17.356927</td>\n",
       "    </tr>\n",
       "    <tr>\n",
       "      <th>11.0</th>\n",
       "      <td>6005</td>\n",
       "      <td>173</td>\n",
       "      <td>2.880933</td>\n",
       "      <td>1357.676301</td>\n",
       "      <td>13.576763</td>\n",
       "    </tr>\n",
       "    <tr>\n",
       "      <th>12.0</th>\n",
       "      <td>6128</td>\n",
       "      <td>278</td>\n",
       "      <td>4.536554</td>\n",
       "      <td>1811.050360</td>\n",
       "      <td>18.110504</td>\n",
       "    </tr>\n",
       "    <tr>\n",
       "      <th>18.0</th>\n",
       "      <td>5986</td>\n",
       "      <td>130</td>\n",
       "      <td>2.171734</td>\n",
       "      <td>1694.815385</td>\n",
       "      <td>16.948154</td>\n",
       "    </tr>\n",
       "    <tr>\n",
       "      <th>24.0</th>\n",
       "      <td>6062</td>\n",
       "      <td>216</td>\n",
       "      <td>3.563180</td>\n",
       "      <td>1685.495370</td>\n",
       "      <td>16.854954</td>\n",
       "    </tr>\n",
       "    <tr>\n",
       "      <th>36.0</th>\n",
       "      <td>7947</td>\n",
       "      <td>306</td>\n",
       "      <td>3.850510</td>\n",
       "      <td>1563.346405</td>\n",
       "      <td>15.633464</td>\n",
       "    </tr>\n",
       "    <tr>\n",
       "      <th>48.0</th>\n",
       "      <td>16433</td>\n",
       "      <td>2204</td>\n",
       "      <td>13.412037</td>\n",
       "      <td>406.518149</td>\n",
       "      <td>4.065181</td>\n",
       "    </tr>\n",
       "    <tr>\n",
       "      <th>54.0</th>\n",
       "      <td>37119</td>\n",
       "      <td>17031</td>\n",
       "      <td>45.882163</td>\n",
       "      <td>124.142564</td>\n",
       "      <td>1.241426</td>\n",
       "    </tr>\n",
       "  </tbody>\n",
       "</table>\n",
       "</div>"
      ],
      "text/plain": [
       "           Pkts_captured  Useful_broken_packets  Useful_broken_packets_p  \\\n",
       "Data_rate                                                                  \n",
       "1.0                15842                   4168                26.309809   \n",
       "2.0                13062                   1446                11.070280   \n",
       "5.5                12039                    472                 3.920591   \n",
       "6.0                 9815                    480                 4.890474   \n",
       "9.0                 6470                    602                 9.304482   \n",
       "11.0                6005                    173                 2.880933   \n",
       "12.0                6128                    278                 4.536554   \n",
       "18.0                5986                    130                 2.171734   \n",
       "24.0                6062                    216                 3.563180   \n",
       "36.0                7947                    306                 3.850510   \n",
       "48.0               16433                   2204                13.412037   \n",
       "54.0               37119                  17031                45.882163   \n",
       "\n",
       "           Avrg_flipped_bits  Avrg_flipped_bits_p  \n",
       "Data_rate                                          \n",
       "1.0               388.525672             3.885257  \n",
       "2.0               752.591286             7.525913  \n",
       "5.5              1293.288136            12.932881  \n",
       "6.0              1459.070833            14.590708  \n",
       "9.0              1735.692691            17.356927  \n",
       "11.0             1357.676301            13.576763  \n",
       "12.0             1811.050360            18.110504  \n",
       "18.0             1694.815385            16.948154  \n",
       "24.0             1685.495370            16.854954  \n",
       "36.0             1563.346405            15.633464  \n",
       "48.0              406.518149             4.065181  \n",
       "54.0              124.142564             1.241426  "
      ]
     },
     "execution_count": 13,
     "metadata": {},
     "output_type": "execute_result"
    }
   ],
   "source": [
    "avrg_number_flipped_bits = p_data[(p_data['Right_Length'] == True) & (p_data['AP_pkt'] == True)][['Flipped_bits','Data_rate']]\n",
    "avrg_number_flipped_bits = avrg_number_flipped_bits.groupby('Data_rate').mean()\n",
    "avrg_number_flipped_bits.columns=['Avrg_flipped_bits']\n",
    "avrg_number_flipped_bits['Avrg_flipped_bits_p'] = avrg_number_flipped_bits / TOTAL_BITS * 100\n",
    "df_data_rate = pd.concat([df_useful_broken_packets,avrg_number_flipped_bits],axis=1)\n",
    "df_data_rate['Pkts_captured']= pkts_captured\n",
    "df_data_rate['Useful_broken_packets_p'] = df_data_rate.Useful_broken_packets / df_data_rate.Pkts_captured * 100\n",
    "df_data_rate = df_data_rate[['Pkts_captured','Useful_broken_packets','Useful_broken_packets_p','Avrg_flipped_bits','Avrg_flipped_bits_p']]\n",
    "df_data_rate"
   ]
  },
  {
   "cell_type": "markdown",
   "metadata": {},
   "source": [
    "### Plotting percentage of broken packets and flipped bits"
   ]
  },
  {
   "cell_type": "code",
   "execution_count": 22,
   "metadata": {
    "collapsed": false
   },
   "outputs": [
    {
     "data": {
      "text/plain": [
       "<matplotlib.text.Text at 0x7f4e5a49d748>"
      ]
     },
     "execution_count": 22,
     "metadata": {},
     "output_type": "execute_result"
    }
   ],
   "source": [
    "rcParams['lines.linewidth'] = 3\n",
    "fig = df_data_rate[['Useful_broken_packets_p','Avrg_flipped_bits_p']].plot(style=['b-o','r-o'],grid=True)\n",
    "\n",
    "plt.legend(['Broken packets','Average flipped bits'])\n",
    "plt.xlabel(\"Data Rate\")\n",
    "plt.ylabel(\"Percentage\")\n",
    "plt.title('Percentage of Useful CRC-Broken Packets and Average Bits Flipped vs Data Rates. Payload size: {} bits'.format(TOTAL_BITS))"
   ]
  },
  {
   "cell_type": "code",
   "execution_count": null,
   "metadata": {
    "collapsed": false
   },
   "outputs": [],
   "source": [
    "rssis.sort()\n",
    "rssis"
   ]
  },
  {
   "cell_type": "markdown",
   "metadata": {},
   "source": [
    "# =========================================================\n",
    "### Cells for testing code\n",
    "# ========================================================="
   ]
  },
  {
   "cell_type": "code",
   "execution_count": 26,
   "metadata": {
    "collapsed": false
   },
   "outputs": [
    {
     "data": {
      "text/html": [
       "<div>\n",
       "<table border=\"1\" class=\"dataframe\">\n",
       "  <thead>\n",
       "    <tr style=\"text-align: right;\">\n",
       "      <th></th>\n",
       "      <th>Broken</th>\n",
       "      <th>RSSI</th>\n",
       "      <th>AP_pkt</th>\n",
       "      <th>Right_Length</th>\n",
       "      <th>Flipped_bits</th>\n",
       "    </tr>\n",
       "    <tr>\n",
       "      <th>Data_rate</th>\n",
       "      <th></th>\n",
       "      <th></th>\n",
       "      <th></th>\n",
       "      <th></th>\n",
       "      <th></th>\n",
       "    </tr>\n",
       "  </thead>\n",
       "  <tbody>\n",
       "    <tr>\n",
       "      <th>1.0</th>\n",
       "      <td>1</td>\n",
       "      <td>-72.434351</td>\n",
       "      <td>0.991010</td>\n",
       "      <td>0.993612</td>\n",
       "      <td>389.916489</td>\n",
       "    </tr>\n",
       "    <tr>\n",
       "      <th>2.0</th>\n",
       "      <td>1</td>\n",
       "      <td>-72.411805</td>\n",
       "      <td>0.993823</td>\n",
       "      <td>0.997941</td>\n",
       "      <td>747.995882</td>\n",
       "    </tr>\n",
       "    <tr>\n",
       "      <th>5.5</th>\n",
       "      <td>1</td>\n",
       "      <td>-72.745263</td>\n",
       "      <td>0.995789</td>\n",
       "      <td>0.997895</td>\n",
       "      <td>1287.774737</td>\n",
       "    </tr>\n",
       "    <tr>\n",
       "      <th>6.0</th>\n",
       "      <td>1</td>\n",
       "      <td>-72.610766</td>\n",
       "      <td>0.993789</td>\n",
       "      <td>0.995859</td>\n",
       "      <td>1452.161491</td>\n",
       "    </tr>\n",
       "    <tr>\n",
       "      <th>9.0</th>\n",
       "      <td>1</td>\n",
       "      <td>-71.538972</td>\n",
       "      <td>1.000000</td>\n",
       "      <td>0.998342</td>\n",
       "      <td>1739.369818</td>\n",
       "    </tr>\n",
       "    <tr>\n",
       "      <th>11.0</th>\n",
       "      <td>1</td>\n",
       "      <td>-71.194286</td>\n",
       "      <td>0.994286</td>\n",
       "      <td>0.994286</td>\n",
       "      <td>1358.308571</td>\n",
       "    </tr>\n",
       "    <tr>\n",
       "      <th>12.0</th>\n",
       "      <td>1</td>\n",
       "      <td>-71.053763</td>\n",
       "      <td>1.000000</td>\n",
       "      <td>0.996416</td>\n",
       "      <td>1809.555556</td>\n",
       "    </tr>\n",
       "    <tr>\n",
       "      <th>18.0</th>\n",
       "      <td>1</td>\n",
       "      <td>-71.206107</td>\n",
       "      <td>0.992366</td>\n",
       "      <td>1.000000</td>\n",
       "      <td>1682.167939</td>\n",
       "    </tr>\n",
       "    <tr>\n",
       "      <th>24.0</th>\n",
       "      <td>1</td>\n",
       "      <td>-71.403670</td>\n",
       "      <td>1.000000</td>\n",
       "      <td>0.990826</td>\n",
       "      <td>1682.275229</td>\n",
       "    </tr>\n",
       "    <tr>\n",
       "      <th>36.0</th>\n",
       "      <td>1</td>\n",
       "      <td>-74.613924</td>\n",
       "      <td>0.974684</td>\n",
       "      <td>0.987342</td>\n",
       "      <td>1531.424051</td>\n",
       "    </tr>\n",
       "    <tr>\n",
       "      <th>48.0</th>\n",
       "      <td>1</td>\n",
       "      <td>-74.814148</td>\n",
       "      <td>0.990334</td>\n",
       "      <td>0.977153</td>\n",
       "      <td>401.557557</td>\n",
       "    </tr>\n",
       "    <tr>\n",
       "      <th>54.0</th>\n",
       "      <td>1</td>\n",
       "      <td>-74.673262</td>\n",
       "      <td>0.975350</td>\n",
       "      <td>0.951465</td>\n",
       "      <td>129.303345</td>\n",
       "    </tr>\n",
       "  </tbody>\n",
       "</table>\n",
       "</div>"
      ],
      "text/plain": [
       "           Broken       RSSI    AP_pkt  Right_Length  Flipped_bits\n",
       "Data_rate                                                         \n",
       "1.0             1 -72.434351  0.991010      0.993612    389.916489\n",
       "2.0             1 -72.411805  0.993823      0.997941    747.995882\n",
       "5.5             1 -72.745263  0.995789      0.997895   1287.774737\n",
       "6.0             1 -72.610766  0.993789      0.995859   1452.161491\n",
       "9.0             1 -71.538972  1.000000      0.998342   1739.369818\n",
       "11.0            1 -71.194286  0.994286      0.994286   1358.308571\n",
       "12.0            1 -71.053763  1.000000      0.996416   1809.555556\n",
       "18.0            1 -71.206107  0.992366      1.000000   1682.167939\n",
       "24.0            1 -71.403670  1.000000      0.990826   1682.275229\n",
       "36.0            1 -74.613924  0.974684      0.987342   1531.424051\n",
       "48.0            1 -74.814148  0.990334      0.977153    401.557557\n",
       "54.0            1 -74.673262  0.975350      0.951465    129.303345"
      ]
     },
     "execution_count": 26,
     "metadata": {},
     "output_type": "execute_result"
    }
   ],
   "source": []
  },
  {
   "cell_type": "code",
   "execution_count": 100,
   "metadata": {
    "collapsed": false
   },
   "outputs": [
    {
     "data": {
      "text/plain": [
       "<matplotlib.text.Text at 0x7f05f473b588>"
      ]
     },
     "execution_count": 100,
     "metadata": {},
     "output_type": "execute_result"
    }
   ],
   "source": [
    "df_data_rate = pd.concat([df_useful_broken_packets,avrg_number_flipped_bits],axis=1)\n",
    "df_data_rate['Pkts_captured']= pkts_captured\n",
    "df_data_rate['Useful_broken_packets_p'] = df_data_rate.Useful_broken_packets / df_data_rate.Pkts_captured * 100\n",
    "\n",
    "\n"
   ]
  },
  {
   "cell_type": "code",
   "execution_count": 86,
   "metadata": {
    "collapsed": false,
    "scrolled": true
   },
   "outputs": [
    {
     "data": {
      "text/html": [
       "<div>\n",
       "<table border=\"1\" class=\"dataframe\">\n",
       "  <thead>\n",
       "    <tr style=\"text-align: right;\">\n",
       "      <th></th>\n",
       "      <th>Useful_broken_packets</th>\n",
       "      <th>Avrg_flipped_bits</th>\n",
       "      <th>Avrg_flipped_bits_p</th>\n",
       "      <th>Pkts_captured</th>\n",
       "      <th>Useful_broken_packets_p</th>\n",
       "    </tr>\n",
       "    <tr>\n",
       "      <th>Data_rate</th>\n",
       "      <th></th>\n",
       "      <th></th>\n",
       "      <th></th>\n",
       "      <th></th>\n",
       "      <th></th>\n",
       "    </tr>\n",
       "  </thead>\n",
       "  <tbody>\n",
       "    <tr>\n",
       "      <th>1.0</th>\n",
       "      <td>4168</td>\n",
       "      <td>388.525672</td>\n",
       "      <td>3.885257</td>\n",
       "      <td>15842</td>\n",
       "      <td>26.309809</td>\n",
       "    </tr>\n",
       "    <tr>\n",
       "      <th>2.0</th>\n",
       "      <td>1446</td>\n",
       "      <td>752.591286</td>\n",
       "      <td>7.525913</td>\n",
       "      <td>13062</td>\n",
       "      <td>11.070280</td>\n",
       "    </tr>\n",
       "    <tr>\n",
       "      <th>5.5</th>\n",
       "      <td>472</td>\n",
       "      <td>1293.288136</td>\n",
       "      <td>12.932881</td>\n",
       "      <td>12039</td>\n",
       "      <td>3.920591</td>\n",
       "    </tr>\n",
       "    <tr>\n",
       "      <th>6.0</th>\n",
       "      <td>480</td>\n",
       "      <td>1459.070833</td>\n",
       "      <td>14.590708</td>\n",
       "      <td>9815</td>\n",
       "      <td>4.890474</td>\n",
       "    </tr>\n",
       "    <tr>\n",
       "      <th>9.0</th>\n",
       "      <td>602</td>\n",
       "      <td>1735.692691</td>\n",
       "      <td>17.356927</td>\n",
       "      <td>6470</td>\n",
       "      <td>9.304482</td>\n",
       "    </tr>\n",
       "    <tr>\n",
       "      <th>11.0</th>\n",
       "      <td>173</td>\n",
       "      <td>1357.676301</td>\n",
       "      <td>13.576763</td>\n",
       "      <td>6005</td>\n",
       "      <td>2.880933</td>\n",
       "    </tr>\n",
       "    <tr>\n",
       "      <th>12.0</th>\n",
       "      <td>278</td>\n",
       "      <td>1811.050360</td>\n",
       "      <td>18.110504</td>\n",
       "      <td>6128</td>\n",
       "      <td>4.536554</td>\n",
       "    </tr>\n",
       "    <tr>\n",
       "      <th>18.0</th>\n",
       "      <td>130</td>\n",
       "      <td>1694.815385</td>\n",
       "      <td>16.948154</td>\n",
       "      <td>5986</td>\n",
       "      <td>2.171734</td>\n",
       "    </tr>\n",
       "    <tr>\n",
       "      <th>24.0</th>\n",
       "      <td>216</td>\n",
       "      <td>1685.495370</td>\n",
       "      <td>16.854954</td>\n",
       "      <td>6062</td>\n",
       "      <td>3.563180</td>\n",
       "    </tr>\n",
       "    <tr>\n",
       "      <th>36.0</th>\n",
       "      <td>306</td>\n",
       "      <td>1563.346405</td>\n",
       "      <td>15.633464</td>\n",
       "      <td>7947</td>\n",
       "      <td>3.850510</td>\n",
       "    </tr>\n",
       "    <tr>\n",
       "      <th>48.0</th>\n",
       "      <td>2204</td>\n",
       "      <td>406.518149</td>\n",
       "      <td>4.065181</td>\n",
       "      <td>16433</td>\n",
       "      <td>13.412037</td>\n",
       "    </tr>\n",
       "    <tr>\n",
       "      <th>54.0</th>\n",
       "      <td>17031</td>\n",
       "      <td>124.142564</td>\n",
       "      <td>1.241426</td>\n",
       "      <td>37119</td>\n",
       "      <td>45.882163</td>\n",
       "    </tr>\n",
       "  </tbody>\n",
       "</table>\n",
       "</div>"
      ],
      "text/plain": [
       "           Useful_broken_packets  Avrg_flipped_bits  Avrg_flipped_bits_p  \\\n",
       "Data_rate                                                                  \n",
       "1.0                         4168         388.525672             3.885257   \n",
       "2.0                         1446         752.591286             7.525913   \n",
       "5.5                          472        1293.288136            12.932881   \n",
       "6.0                          480        1459.070833            14.590708   \n",
       "9.0                          602        1735.692691            17.356927   \n",
       "11.0                         173        1357.676301            13.576763   \n",
       "12.0                         278        1811.050360            18.110504   \n",
       "18.0                         130        1694.815385            16.948154   \n",
       "24.0                         216        1685.495370            16.854954   \n",
       "36.0                         306        1563.346405            15.633464   \n",
       "48.0                        2204         406.518149             4.065181   \n",
       "54.0                       17031         124.142564             1.241426   \n",
       "\n",
       "           Pkts_captured  Useful_broken_packets_p  \n",
       "Data_rate                                          \n",
       "1.0                15842                26.309809  \n",
       "2.0                13062                11.070280  \n",
       "5.5                12039                 3.920591  \n",
       "6.0                 9815                 4.890474  \n",
       "9.0                 6470                 9.304482  \n",
       "11.0                6005                 2.880933  \n",
       "12.0                6128                 4.536554  \n",
       "18.0                5986                 2.171734  \n",
       "24.0                6062                 3.563180  \n",
       "36.0                7947                 3.850510  \n",
       "48.0               16433                13.412037  \n",
       "54.0               37119                45.882163  "
      ]
     },
     "execution_count": 86,
     "metadata": {},
     "output_type": "execute_result"
    }
   ],
   "source": [
    "\n",
    "test['Useful_broken_packets_p'] = test.Useful_broken_packets / test.Pkts_captured * 100\n",
    "test"
   ]
  },
  {
   "cell_type": "code",
   "execution_count": 113,
   "metadata": {
    "collapsed": false
   },
   "outputs": [
    {
     "data": {
      "text/plain": [
       "str"
      ]
     },
     "execution_count": 113,
     "metadata": {},
     "output_type": "execute_result"
    }
   ],
   "source": [
    "type(p_data.loc[0].Data)"
   ]
  },
  {
   "cell_type": "markdown",
   "metadata": {
    "collapsed": true
   },
   "source": [
    "# =========================================================\n",
    "### Deprecated\n",
    "# ========================================================="
   ]
  },
  {
   "cell_type": "markdown",
   "metadata": {},
   "source": [
    "Get the broken data from the packets as a string, hex values and binary array <span style=\"color:red;\">(Deprecated, it's done with Pandas now)</span> "
   ]
  },
  {
   "cell_type": "code",
   "execution_count": null,
   "metadata": {
    "collapsed": false
   },
   "outputs": [],
   "source": [
    "# # Broken data as a string\n",
    "# broken_data = [pkt.data.data for pkt in broken_pkts]\n",
    "\n",
    "\n",
    "# # filter out packets that have the wrong data length\n",
    "# broken_data = [x for x in broken_data if len(x) == 100]\n",
    "# total_broken_pkts_true_length = len(broken_data)\n",
    "# total_broken_pkts_false_length = total_broken_pkts - total_broken_pkts_true_length\n",
    "\n",
    "# # # Broken data as hex values\n",
    "# # hex_broken_data=[]\n",
    "# # count = 0\n",
    "# # for data in broken_data:\n",
    "# #     hex_broken_data.append([binascii.a2b_hex(data[byte:byte+2]) for byte in range(0, len(data),2)])\n",
    "# #     #print(byte)\n",
    "# #     count=count+1\n",
    "    \n",
    "# # Broken data as binary values\n",
    "# def str2bin(number):\n",
    "#     decimal_number = int(number,16)\n",
    "#     # Do not return the '0b' at the beginning and fill with zeroes\n",
    "#     return bin(decimal_number)[2:].zfill(8)\n",
    "# bin_broken_data = []\n",
    "# for data in broken_data:\n",
    "#     bin_broken_data.append([str2bin(data[byte : byte+2]) for byte in range(0, len(data),2)])\n",
    "\n",
    "\n"
   ]
  },
  {
   "cell_type": "markdown",
   "metadata": {},
   "source": [
    "Build a single array of bits per broken data  <span style=\"color:red;\">(Deprecated, it's done with Pandas now)</span> "
   ]
  },
  {
   "cell_type": "code",
   "execution_count": null,
   "metadata": {
    "collapsed": false
   },
   "outputs": [],
   "source": [
    "# temp = []\n",
    "# temp_str = ''\n",
    "# for data in bin_broken_data:\n",
    "#     for byte in data:\n",
    "#         temp_str = temp_str + byte\n",
    "#     temp.append(temp_str)\n",
    "#     temp_str=''\n",
    "\n",
    "# bin_broken_data = temp"
   ]
  },
  {
   "cell_type": "code",
   "execution_count": null,
   "metadata": {
    "collapsed": true
   },
   "outputs": [],
   "source": [
    "# file_list = ['2015-12-07_16_31_60mw_1mbps.pcapng', '2015-12-07_17_04_60mw_9mbps.pcapng',\n",
    "#              '2015-12-07_17_36_60mw_18mbps.pcapng', '2015-12-07_18_11_60mw_36mbps.pcapng',\n",
    "#              '2015-12-07_18_55_60mw_54mbps.pcapng']\n",
    "\n",
    "# file_list = ['2015-12-08_14_51_60mw_1mbps.pcapng', '2015-12-08_15_26_60mw_55mbps.pcapng',\n",
    "#              '2015-12-08_14_14_60mw_9mbps.pcapng', '2015-12-08_16_00_60mw_12mbps.pcapng',\n",
    "#              '2015-12-08_13_38_60mw_18mbps.pcapng', '2015-12-08_12_48_60mw_36mbps.pcapng',\n",
    "#              '2015-12-08_11_59_60mw_54mbps.pcapng']\n",
    "\n",
    "# start_time = timeit.default_timer()\n",
    "\n",
    "# broken_pkts = []\n",
    "# for pcap in file_list:\n",
    "#     print(\"reading file: \" + pcap)\n",
    "#     cap = pyshark.FileCapture(pcap)\n",
    "#     for pkt in cap:\n",
    "#         if pkt.wlan.fcs_bad == '1':\n",
    "#             broken_pkts.append(pkt)\n",
    "\n",
    "# print ('Time taken: {} seconds'.format(timeit.default_timer() - start_time))\n",
    "\n",
    "# total_broken_pkts = len(broken_pkts)"
   ]
  },
  {
   "cell_type": "code",
   "execution_count": null,
   "metadata": {
    "collapsed": false
   },
   "outputs": [],
   "source": [
    "# # Lets measure the time it takes to complete this\n",
    "# start_time = timeit.default_timer()\n",
    "\n",
    "# broken_pkts = [pkt for pkt in cap if pkt.wlan.fcs_bad == '1']\n",
    "\n",
    "# print ('Time taken: {} seconds'.format(timeit.default_timer() - start_time))\n",
    "\n",
    "# total_broken_pkts = len(broken_pkts)"
   ]
  },
  {
   "cell_type": "code",
   "execution_count": null,
   "metadata": {
    "collapsed": true
   },
   "outputs": [],
   "source": [
    "p_data.to_msgpack('across_rooms_automated.msg')"
   ]
  },
  {
   "cell_type": "code",
   "execution_count": null,
   "metadata": {
    "collapsed": true
   },
   "outputs": [],
   "source": []
  }
 ],
 "metadata": {
  "kernelspec": {
   "display_name": "Python 3",
   "language": "python",
   "name": "python3"
  },
  "language_info": {
   "codemirror_mode": {
    "name": "ipython",
    "version": 3
   },
   "file_extension": ".py",
   "mimetype": "text/x-python",
   "name": "python",
   "nbconvert_exporter": "python",
   "pygments_lexer": "ipython3",
   "version": "3.5.1"
  }
 },
 "nbformat": 4,
 "nbformat_minor": 0
}
