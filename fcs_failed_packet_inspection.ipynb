{
 "cells": [
  {
   "cell_type": "markdown",
   "metadata": {},
   "source": [
    "# Sending the packets"
   ]
  },
  {
   "cell_type": "markdown",
   "metadata": {},
   "source": [
    "## Broadcast case:"
   ]
  },
  {
   "cell_type": "markdown",
   "metadata": {},
   "source": [
    "A raspberry pi is broadcasting packets which payloads consist on just 0 bits\n",
    "\n",
    "The code for broadcasting is;\n",
    "\n",
    "```python\n",
    "# Send UDP broadcast packets\n",
    "\n",
    "MYPORT = 53524\n",
    "\n",
    "import sys, time, array\n",
    "from socket import *\n",
    "\n",
    "s = socket(AF_INET, SOCK_DGRAM)\n",
    "s.bind(('', 0))\n",
    "s.setsockopt(SOL_SOCKET, SO_BROADCAST, 1)\n",
    "\n",
    "while 1:\n",
    "    #data = repr(time.time()) + '\\n'\n",
    "    data = \"0\"*100\n",
    "    data= data.decode('hex')\n",
    "    s.sendto(data, ('<broadcast>', MYPORT))\n",
    "    print data\n",
    "    time.sleep(0.1)\n",
    "```"
   ]
  },
  {
   "cell_type": "markdown",
   "metadata": {},
   "source": [
    "# Capturing the packets"
   ]
  },
  {
   "cell_type": "markdown",
   "metadata": {},
   "source": [
    "To capture the packets it is needed to set the NIC in monitor mode. The instructions are [here](https://sandilands.info/sgordon/capturing-wifi-in-monitor-mode-with-iw)"
   ]
  },
  {
   "cell_type": "markdown",
   "metadata": {},
   "source": [
    "The only special consideration is that you need to include the flag for capturing packets with the FCS fail:\n",
    "\n",
    "```bash\n",
    "sudo iw phy phy0 interface add mon0 type monitor flags fcsfail\n",
    "```\n",
    "\n",
    "I do the following when using the USB dongle\n",
    "\n",
    "```bash\n",
    "sudo iw phy phy1 interface add mon0 type monitor flags fcsfail\n",
    "sudo iw dev wlp0s26u1u2 del\n",
    "sudo ifconfig mon0 up\n",
    "# Set it to channel 6\n",
    "sudo iw dev mon0 set freq 2437\n",
    "```"
   ]
  },
  {
   "cell_type": "markdown",
   "metadata": {},
   "source": [
    "# Analyzing the data"
   ]
  },
  {
   "cell_type": "code",
   "execution_count": 1,
   "metadata": {
    "collapsed": false
   },
   "outputs": [],
   "source": [
    "import pyshark\n",
    "import pandas as pd\n",
    "import matplotlib.pyplot as plt\n",
    "# import binascii\n",
    "import timeit"
   ]
  },
  {
   "cell_type": "code",
   "execution_count": 2,
   "metadata": {
    "collapsed": true
   },
   "outputs": [],
   "source": [
    "TOTAL_BITS = 400"
   ]
  },
  {
   "cell_type": "code",
   "execution_count": 3,
   "metadata": {
    "collapsed": false
   },
   "outputs": [
    {
     "name": "stdout",
     "output_type": "stream",
     "text": [
      "Populating the interactive namespace from numpy and matplotlib\n"
     ]
    }
   ],
   "source": [
    "# See the plots in Jupyter env\n",
    "%pylab inline"
   ]
  },
  {
   "cell_type": "markdown",
   "metadata": {},
   "source": [
    "### Load the captured packets"
   ]
  },
  {
   "cell_type": "code",
   "execution_count": 4,
   "metadata": {
    "collapsed": false
   },
   "outputs": [],
   "source": [
    "# cap = pyshark.FileCapture('test_capture.pcapng')\n",
    "# cap = pyshark.FileCapture('gvsp.pcapng')\n",
    "# cap = pyshark.FileCapture('bigger test.pcapng')\n",
    "# cap = pyshark.FileCapture('test_for_weekend.pcapng')\n",
    "cap = pyshark.FileCapture('30-11-15_54mbps_1mw.pcapng')"
   ]
  },
  {
   "cell_type": "markdown",
   "metadata": {},
   "source": [
    "### Filter the CRC broken packets"
   ]
  },
  {
   "cell_type": "code",
   "execution_count": 5,
   "metadata": {
    "collapsed": false
   },
   "outputs": [
    {
     "name": "stdout",
     "output_type": "stream",
     "text": [
      "Time taken: 303.1784117909997 seconds\n"
     ]
    }
   ],
   "source": [
    "# Lets measure the time it takes to complete this\n",
    "start_time = timeit.default_timer()\n",
    "broken_pkts = [pkt for pkt in cap if pkt.wlan.fcs_bad == '1']\n",
    "print ('Time taken: {} seconds'.format(timeit.default_timer() - start_time))\n",
    "\n",
    "total_broken_pkts = len(broken_pkts)"
   ]
  },
  {
   "cell_type": "markdown",
   "metadata": {},
   "source": [
    "Or using pandas, we build the data frame with some usefull columns:"
   ]
  },
  {
   "cell_type": "code",
   "execution_count": 6,
   "metadata": {
    "collapsed": false
   },
   "outputs": [],
   "source": [
    "# Broken data as a string\n",
    "data=[]\n",
    "for pkt in broken_pkts:\n",
    "    try:\n",
    "        data.append(pkt.data.data)\n",
    "    # We ignore packets with no data attribute\n",
    "    except(AttributeError):\n",
    "        continue\n",
    "len(data)\n",
    "p_data = pd.DataFrame(data,columns=['Data'])\n",
    "\n",
    "\n",
    "# Add a column stating if the data has the right length\n",
    "p_data['Right_Length'] = p_data['Data'].apply(lambda x: len(x) == 100)\n",
    "\n",
    "# Add a column with Binary Data\n",
    "def str2bin(number):\n",
    "    decimal_number = int(number,16)\n",
    "    # Do not return the '0b' at the beginning and fill with zeroes\n",
    "    return bin(decimal_number)[2:].zfill(8)\n",
    "\n",
    "def data_to_bin(data):\n",
    "    return [str2bin(data[byte : byte+2]) for byte in range(0, len(data),2)]\n",
    "\n",
    "def bytes_to_binarray(list_of_bytes):\n",
    "    temp_str = ''\n",
    "    for byte in list_of_bytes:\n",
    "        temp_str = temp_str + byte\n",
    "    return temp_str\n",
    "\n",
    "p_data['Data_bin'] = p_data['Data'].apply(data_to_bin)\n",
    "p_data['Data_bin'] = p_data['Data_bin'].apply(bytes_to_binarray)\n",
    "\n",
    "# Add column with number of bits flipped\n",
    "p_data['Flipped_bits'] = p_data['Data_bin'].apply(lambda x: x.count('1'))"
   ]
  },
  {
   "cell_type": "markdown",
   "metadata": {
    "collapsed": false,
    "scrolled": true
   },
   "source": [
    "Count the number of packets with the right and wrong length"
   ]
  },
  {
   "cell_type": "code",
   "execution_count": 7,
   "metadata": {
    "collapsed": false
   },
   "outputs": [],
   "source": [
    "# Group the packets in right/wrong length and count the number of occurences\n",
    "lengths = p_data.groupby(['Right_Length']).size()\n",
    "\n",
    "# Right length\n",
    "total_broken_pkts_true_length = lengths[True]\n",
    "\n",
    "# Wrong length\n",
    "total_broken_pkts_false_length = lengths[False]"
   ]
  },
  {
   "cell_type": "markdown",
   "metadata": {},
   "source": [
    "Create a vector containing the number of bits flipped in specific locations"
   ]
  },
  {
   "cell_type": "code",
   "execution_count": 8,
   "metadata": {
    "collapsed": false
   },
   "outputs": [],
   "source": [
    "# Empty vector\n",
    "flips_occurences = [0]*TOTAL_BITS\n",
    "\n",
    "# Operate only over data packets of the right size\n",
    "right_size_data = p_data[p_data['Right_Length'] == True]['Data_bin']\n",
    "\n",
    "for row in right_size_data:\n",
    "    # Traverse the vector\n",
    "    for i,x in enumerate(row):\n",
    "        # If the value is a '1' add one to the vector of flips_occurences\n",
    "        if x == '1':\n",
    "            flips_occurences[i] = flips_occurences[i] + 1"
   ]
  },
  {
   "cell_type": "markdown",
   "metadata": {},
   "source": [
    "Plot the histogram with flip ocurrences"
   ]
  },
  {
   "cell_type": "code",
   "execution_count": 14,
   "metadata": {
    "collapsed": false,
    "scrolled": true
   },
   "outputs": [
    {
     "data": {
      "text/plain": [
       "[<matplotlib.lines.Line2D at 0x7fae7645b080>]"
      ]
     },
     "execution_count": 14,
     "metadata": {},
     "output_type": "execute_result"
    },
    {
     "data": {
      "image/png": "[encoded data removed]",
      "text/plain": [
       "<matplotlib.figure.Figure at 0x7fae76488668>"
      ]
     },
     "metadata": {},
     "output_type": "display_data"
    }
   ],
   "source": [
    "fig = plt.figure()\n",
    "plt.plot(range(len(flips_occurences)),flips_occurences)"
   ]
  },
  {
   "cell_type": "markdown",
   "metadata": {},
   "source": [
    "### Average number of flipped bits"
   ]
  },
  {
   "cell_type": "code",
   "execution_count": 15,
   "metadata": {
    "collapsed": false
   },
   "outputs": [
    {
     "data": {
      "text/plain": [
       "13.371365880416896"
      ]
     },
     "execution_count": 15,
     "metadata": {},
     "output_type": "execute_result"
    }
   ],
   "source": [
    "p_data[p_data['Right_Length'] == True]['Flipped_bits'].mean()"
   ]
  },
  {
   "cell_type": "markdown",
   "metadata": {},
   "source": [
    "# =========================================================\n",
    "### Cells for testing code\n",
    "# ========================================================="
   ]
  },
  {
   "cell_type": "code",
   "execution_count": null,
   "metadata": {
    "collapsed": false
   },
   "outputs": [],
   "source": []
  },
  {
   "cell_type": "code",
   "execution_count": null,
   "metadata": {
    "collapsed": false
   },
   "outputs": [],
   "source": [
    "# cap2 = pyshark.FileCapture('big test.pcapng',display_filter='wlan.fcs_bad == true')\n"
   ]
  },
  {
   "cell_type": "code",
   "execution_count": 16,
   "metadata": {
    "collapsed": false,
    "scrolled": true
   },
   "outputs": [
    {
     "data": {
      "text/html": [
       "<div>\n",
       "<table border=\"1\" class=\"dataframe\">\n",
       "  <thead>\n",
       "    <tr style=\"text-align: right;\">\n",
       "      <th></th>\n",
       "      <th>Data</th>\n",
       "      <th>Right_Length</th>\n",
       "      <th>Data_bin</th>\n",
       "      <th>Flipped_bits</th>\n",
       "    </tr>\n",
       "  </thead>\n",
       "  <tbody>\n",
       "    <tr>\n",
       "      <th>0</th>\n",
       "      <td>0000000000000000000000000000000000000000000000...</td>\n",
       "      <td>True</td>\n",
       "      <td>0000000000000000000000000000000000000000000000...</td>\n",
       "      <td>6</td>\n",
       "    </tr>\n",
       "    <tr>\n",
       "      <th>1</th>\n",
       "      <td>0000000000000000000000000000470000000000000000...</td>\n",
       "      <td>True</td>\n",
       "      <td>0000000000000000000000000000000000000000000000...</td>\n",
       "      <td>4</td>\n",
       "    </tr>\n",
       "    <tr>\n",
       "      <th>2</th>\n",
       "      <td>0000000000000000000000000000470000000000000000...</td>\n",
       "      <td>True</td>\n",
       "      <td>0000000000000000000000000000000000000000000000...</td>\n",
       "      <td>4</td>\n",
       "    </tr>\n",
       "    <tr>\n",
       "      <th>3</th>\n",
       "      <td>0000000000000000000084d608f3bb466b000000000000...</td>\n",
       "      <td>True</td>\n",
       "      <td>0000000000000000000000000000000000000000000000...</td>\n",
       "      <td>33</td>\n",
       "    </tr>\n",
       "    <tr>\n",
       "      <th>5</th>\n",
       "      <td>0000000000000000000000000000000000000000000000...</td>\n",
       "      <td>True</td>\n",
       "      <td>0000000000000000000000000000000000000000000000...</td>\n",
       "      <td>0</td>\n",
       "    </tr>\n",
       "    <tr>\n",
       "      <th>6</th>\n",
       "      <td>0000000000000000000000000000000000009803000000...</td>\n",
       "      <td>True</td>\n",
       "      <td>0000000000000000000000000000000000000000000000...</td>\n",
       "      <td>5</td>\n",
       "    </tr>\n",
       "    <tr>\n",
       "      <th>7</th>\n",
       "      <td>000000000000000000000000000000de05000000000000...</td>\n",
       "      <td>True</td>\n",
       "      <td>0000000000000000000000000000000000000000000000...</td>\n",
       "      <td>8</td>\n",
       "    </tr>\n",
       "    <tr>\n",
       "      <th>8</th>\n",
       "      <td>0000000000000000000000000000000000000000000000...</td>\n",
       "      <td>True</td>\n",
       "      <td>0000000000000000000000000000000000000000000000...</td>\n",
       "      <td>5</td>\n",
       "    </tr>\n",
       "    <tr>\n",
       "      <th>9</th>\n",
       "      <td>0000000000000000000000000000000000000000000000...</td>\n",
       "      <td>True</td>\n",
       "      <td>0000000000000000000000000000000000000000000000...</td>\n",
       "      <td>0</td>\n",
       "    </tr>\n",
       "    <tr>\n",
       "      <th>11</th>\n",
       "      <td>0000000000000000000000e00400000000000000000000...</td>\n",
       "      <td>True</td>\n",
       "      <td>0000000000000000000000000000000000000000000000...</td>\n",
       "      <td>4</td>\n",
       "    </tr>\n",
       "    <tr>\n",
       "      <th>12</th>\n",
       "      <td>0000000000000000000000000000000000000000000000...</td>\n",
       "      <td>True</td>\n",
       "      <td>0000000000000000000000000000000000000000000000...</td>\n",
       "      <td>0</td>\n",
       "    </tr>\n",
       "    <tr>\n",
       "      <th>13</th>\n",
       "      <td>0000000000000000000000000000000000000000000000...</td>\n",
       "      <td>True</td>\n",
       "      <td>0000000000000000000000000000000000000000000000...</td>\n",
       "      <td>6</td>\n",
       "    </tr>\n",
       "    <tr>\n",
       "      <th>14</th>\n",
       "      <td>0000000000003841828a59237324000000000000000000...</td>\n",
       "      <td>True</td>\n",
       "      <td>0000000000000000000000000000000000000000000000...</td>\n",
       "      <td>24</td>\n",
       "    </tr>\n",
       "    <tr>\n",
       "      <th>15</th>\n",
       "      <td>00000000000000807e0000000000000000000000000000...</td>\n",
       "      <td>True</td>\n",
       "      <td>0000000000000000000000000000000000000000000000...</td>\n",
       "      <td>7</td>\n",
       "    </tr>\n",
       "    <tr>\n",
       "      <th>16</th>\n",
       "      <td>0000000000000000000000000000000000000000000000...</td>\n",
       "      <td>True</td>\n",
       "      <td>0000000000000000000000000000000000000000000000...</td>\n",
       "      <td>23</td>\n",
       "    </tr>\n",
       "    <tr>\n",
       "      <th>17</th>\n",
       "      <td>0000000000000000000000000000000000000000000000...</td>\n",
       "      <td>True</td>\n",
       "      <td>0000000000000000000000000000000000000000000000...</td>\n",
       "      <td>22</td>\n",
       "    </tr>\n",
       "    <tr>\n",
       "      <th>19</th>\n",
       "      <td>0000000000000000000000000000000000000000000000...</td>\n",
       "      <td>True</td>\n",
       "      <td>0000000000000000000000000000000000000000000000...</td>\n",
       "      <td>6</td>\n",
       "    </tr>\n",
       "    <tr>\n",
       "      <th>20</th>\n",
       "      <td>00000000000000000000000000c0fcc83647426b64d9d0...</td>\n",
       "      <td>True</td>\n",
       "      <td>0000000000000000000000000000000000000000000000...</td>\n",
       "      <td>41</td>\n",
       "    </tr>\n",
       "    <tr>\n",
       "      <th>21</th>\n",
       "      <td>0000000000000000000000000000000000000000000000...</td>\n",
       "      <td>True</td>\n",
       "      <td>0000000000000000000000000000000000000000000000...</td>\n",
       "      <td>0</td>\n",
       "    </tr>\n",
       "    <tr>\n",
       "      <th>23</th>\n",
       "      <td>0000000000000000000000000080390000000000000000...</td>\n",
       "      <td>True</td>\n",
       "      <td>0000000000000000000000000000000000000000000000...</td>\n",
       "      <td>10</td>\n",
       "    </tr>\n",
       "    <tr>\n",
       "      <th>24</th>\n",
       "      <td>000000000000000000000000ccaf98eb07000000000000...</td>\n",
       "      <td>True</td>\n",
       "      <td>0000000000000000000000000000000000000000000000...</td>\n",
       "      <td>22</td>\n",
       "    </tr>\n",
       "    <tr>\n",
       "      <th>25</th>\n",
       "      <td>000000cc6f6473e4480000000000000000000000000000...</td>\n",
       "      <td>True</td>\n",
       "      <td>0000000000000000000000001100110001101111011001...</td>\n",
       "      <td>24</td>\n",
       "    </tr>\n",
       "    <tr>\n",
       "      <th>26</th>\n",
       "      <td>0000000000000000000000000000000000000000000000...</td>\n",
       "      <td>True</td>\n",
       "      <td>0000000000000000000000000000000000000000000000...</td>\n",
       "      <td>21</td>\n",
       "    </tr>\n",
       "    <tr>\n",
       "      <th>27</th>\n",
       "      <td>0000000000000000000000000000000000000000000000...</td>\n",
       "      <td>True</td>\n",
       "      <td>0000000000000000000000000000000000000000000000...</td>\n",
       "      <td>0</td>\n",
       "    </tr>\n",
       "    <tr>\n",
       "      <th>28</th>\n",
       "      <td>0000000000000000000000000000000000000000000000...</td>\n",
       "      <td>True</td>\n",
       "      <td>0000000000000000000000000000000000000000000000...</td>\n",
       "      <td>0</td>\n",
       "    </tr>\n",
       "    <tr>\n",
       "      <th>29</th>\n",
       "      <td>0000000000000000000000000000000000000000000000...</td>\n",
       "      <td>True</td>\n",
       "      <td>0000000000000000000000000000000000000000000000...</td>\n",
       "      <td>4</td>\n",
       "    </tr>\n",
       "    <tr>\n",
       "      <th>30</th>\n",
       "      <td>0000000000000000000000000000000000000000000000...</td>\n",
       "      <td>True</td>\n",
       "      <td>0000000000000000000000000000000000000000000000...</td>\n",
       "      <td>5</td>\n",
       "    </tr>\n",
       "    <tr>\n",
       "      <th>31</th>\n",
       "      <td>0000000000000000000000000000000000000000000000...</td>\n",
       "      <td>True</td>\n",
       "      <td>0000000000000000000000000000000000000000000000...</td>\n",
       "      <td>22</td>\n",
       "    </tr>\n",
       "    <tr>\n",
       "      <th>32</th>\n",
       "      <td>00000000000000807e5400000000000000000000000000...</td>\n",
       "      <td>True</td>\n",
       "      <td>0000000000000000000000000000000000000000000000...</td>\n",
       "      <td>10</td>\n",
       "    </tr>\n",
       "    <tr>\n",
       "      <th>33</th>\n",
       "      <td>0000000000000000000000000000000000000000000000...</td>\n",
       "      <td>True</td>\n",
       "      <td>0000000000000000000000000000000000000000000000...</td>\n",
       "      <td>5</td>\n",
       "    </tr>\n",
       "    <tr>\n",
       "      <th>...</th>\n",
       "      <td>...</td>\n",
       "      <td>...</td>\n",
       "      <td>...</td>\n",
       "      <td>...</td>\n",
       "    </tr>\n",
       "    <tr>\n",
       "      <th>2042</th>\n",
       "      <td>0000000000000000000000000000000000000000000000...</td>\n",
       "      <td>True</td>\n",
       "      <td>0000000000000000000000000000000000000000000000...</td>\n",
       "      <td>7</td>\n",
       "    </tr>\n",
       "    <tr>\n",
       "      <th>2043</th>\n",
       "      <td>0000000000000000000000000000000000000000000000...</td>\n",
       "      <td>True</td>\n",
       "      <td>0000000000000000000000000000000000000000000000...</td>\n",
       "      <td>0</td>\n",
       "    </tr>\n",
       "    <tr>\n",
       "      <th>2044</th>\n",
       "      <td>0000000000000000000000000000000000000000000000...</td>\n",
       "      <td>True</td>\n",
       "      <td>0000000000000000000000000000000000000000000000...</td>\n",
       "      <td>30</td>\n",
       "    </tr>\n",
       "    <tr>\n",
       "      <th>2045</th>\n",
       "      <td>0000000000000000000000000080391200000000000000...</td>\n",
       "      <td>True</td>\n",
       "      <td>0000000000000000000000000000000000000000000000...</td>\n",
       "      <td>7</td>\n",
       "    </tr>\n",
       "    <tr>\n",
       "      <th>2047</th>\n",
       "      <td>0000000000000000000000000000000000000000000000...</td>\n",
       "      <td>True</td>\n",
       "      <td>0000000000000000000000000000000000000000000000...</td>\n",
       "      <td>0</td>\n",
       "    </tr>\n",
       "    <tr>\n",
       "      <th>2049</th>\n",
       "      <td>9123010000000000000000000000000000000000000000...</td>\n",
       "      <td>True</td>\n",
       "      <td>1001000100100011000000010000000000000000000000...</td>\n",
       "      <td>21</td>\n",
       "    </tr>\n",
       "    <tr>\n",
       "      <th>2050</th>\n",
       "      <td>0000000000009823000000000000000000000000000000...</td>\n",
       "      <td>True</td>\n",
       "      <td>0000000000000000000000000000000000000000000000...</td>\n",
       "      <td>6</td>\n",
       "    </tr>\n",
       "    <tr>\n",
       "      <th>2052</th>\n",
       "      <td>0000000000000000000000000000000000000000000000...</td>\n",
       "      <td>True</td>\n",
       "      <td>0000000000000000000000000000000000000000000000...</td>\n",
       "      <td>0</td>\n",
       "    </tr>\n",
       "    <tr>\n",
       "      <th>2053</th>\n",
       "      <td>0000000000000000000000000000009823000000000000...</td>\n",
       "      <td>True</td>\n",
       "      <td>0000000000000000000000000000000000000000000000...</td>\n",
       "      <td>14</td>\n",
       "    </tr>\n",
       "    <tr>\n",
       "      <th>2056</th>\n",
       "      <td>0000000000000000000000000000000000000000000000...</td>\n",
       "      <td>True</td>\n",
       "      <td>0000000000000000000000000000000000000000000000...</td>\n",
       "      <td>14</td>\n",
       "    </tr>\n",
       "    <tr>\n",
       "      <th>2057</th>\n",
       "      <td>0000000000000000000000000000000000000000000000...</td>\n",
       "      <td>True</td>\n",
       "      <td>0000000000000000000000000000000000000000000000...</td>\n",
       "      <td>0</td>\n",
       "    </tr>\n",
       "    <tr>\n",
       "      <th>2058</th>\n",
       "      <td>0000000000000000000000000080394225a10080398209...</td>\n",
       "      <td>True</td>\n",
       "      <td>0000000000000000000000000000000000000000000000...</td>\n",
       "      <td>27</td>\n",
       "    </tr>\n",
       "    <tr>\n",
       "      <th>2060</th>\n",
       "      <td>c01c9547e6000000f40300000000a8221b000000000000...</td>\n",
       "      <td>True</td>\n",
       "      <td>1100000000011100100101010100011111100110000000...</td>\n",
       "      <td>40</td>\n",
       "    </tr>\n",
       "    <tr>\n",
       "      <th>2061</th>\n",
       "      <td>0000000000000000000000000000000000000000000000...</td>\n",
       "      <td>True</td>\n",
       "      <td>0000000000000000000000000000000000000000000000...</td>\n",
       "      <td>0</td>\n",
       "    </tr>\n",
       "    <tr>\n",
       "      <th>2062</th>\n",
       "      <td>0000000000000000000000000000000000000000000000...</td>\n",
       "      <td>True</td>\n",
       "      <td>0000000000000000000000000000000000000000000000...</td>\n",
       "      <td>0</td>\n",
       "    </tr>\n",
       "    <tr>\n",
       "      <th>2063</th>\n",
       "      <td>0000000000000000000000000000000000000000000000...</td>\n",
       "      <td>True</td>\n",
       "      <td>0000000000000000000000000000000000000000000000...</td>\n",
       "      <td>0</td>\n",
       "    </tr>\n",
       "    <tr>\n",
       "      <th>2064</th>\n",
       "      <td>0000000000000000000000000000000000000000000000...</td>\n",
       "      <td>True</td>\n",
       "      <td>0000000000000000000000000000000000000000000000...</td>\n",
       "      <td>15</td>\n",
       "    </tr>\n",
       "    <tr>\n",
       "      <th>2065</th>\n",
       "      <td>0000000000000000000000000000000000000000000000...</td>\n",
       "      <td>True</td>\n",
       "      <td>0000000000000000000000000000000000000000000000...</td>\n",
       "      <td>0</td>\n",
       "    </tr>\n",
       "    <tr>\n",
       "      <th>2066</th>\n",
       "      <td>000000680df5e309120000000000000000000000000000...</td>\n",
       "      <td>True</td>\n",
       "      <td>0000000000000000000000000110100000001101111101...</td>\n",
       "      <td>21</td>\n",
       "    </tr>\n",
       "    <tr>\n",
       "      <th>2067</th>\n",
       "      <td>0000000000000000000000000000000000000000000000...</td>\n",
       "      <td>True</td>\n",
       "      <td>0000000000000000000000000000000000000000000000...</td>\n",
       "      <td>19</td>\n",
       "    </tr>\n",
       "    <tr>\n",
       "      <th>2068</th>\n",
       "      <td>0000009823340000000000000000000000000000000000...</td>\n",
       "      <td>True</td>\n",
       "      <td>0000000000000000000000001001100000100011001101...</td>\n",
       "      <td>9</td>\n",
       "    </tr>\n",
       "    <tr>\n",
       "      <th>2069</th>\n",
       "      <td>0000000000000000000000000080390000000000000000...</td>\n",
       "      <td>True</td>\n",
       "      <td>0000000000000000000000000000000000000000000000...</td>\n",
       "      <td>5</td>\n",
       "    </tr>\n",
       "    <tr>\n",
       "      <th>2070</th>\n",
       "      <td>0000000000000000000000000000000000000000000000...</td>\n",
       "      <td>True</td>\n",
       "      <td>0000000000000000000000000000000000000000000000...</td>\n",
       "      <td>22</td>\n",
       "    </tr>\n",
       "    <tr>\n",
       "      <th>2071</th>\n",
       "      <td>0000000000000000000000000000000000000000000000...</td>\n",
       "      <td>True</td>\n",
       "      <td>0000000000000000000000000000000000000000000000...</td>\n",
       "      <td>18</td>\n",
       "    </tr>\n",
       "    <tr>\n",
       "      <th>2072</th>\n",
       "      <td>0000000000ef8a396d7304000000000000000000000000...</td>\n",
       "      <td>True</td>\n",
       "      <td>0000000000000000000000000000000000000000111011...</td>\n",
       "      <td>25</td>\n",
       "    </tr>\n",
       "    <tr>\n",
       "      <th>2073</th>\n",
       "      <td>0000000000000000000000000000000000000000000000...</td>\n",
       "      <td>True</td>\n",
       "      <td>0000000000000000000000000000000000000000000000...</td>\n",
       "      <td>0</td>\n",
       "    </tr>\n",
       "    <tr>\n",
       "      <th>2074</th>\n",
       "      <td>0000000000000000000000000000000000000000000000...</td>\n",
       "      <td>True</td>\n",
       "      <td>0000000000000000000000000000000000000000000000...</td>\n",
       "      <td>0</td>\n",
       "    </tr>\n",
       "    <tr>\n",
       "      <th>2075</th>\n",
       "      <td>0000000000000000000000000000000000000000000000...</td>\n",
       "      <td>True</td>\n",
       "      <td>0000000000000000000000000000000000000000000000...</td>\n",
       "      <td>6</td>\n",
       "    </tr>\n",
       "    <tr>\n",
       "      <th>2076</th>\n",
       "      <td>0000000000000000000000000000000000000000000000...</td>\n",
       "      <td>True</td>\n",
       "      <td>0000000000000000000000000000000000000000000000...</td>\n",
       "      <td>0</td>\n",
       "    </tr>\n",
       "    <tr>\n",
       "      <th>2077</th>\n",
       "      <td>0000000000009823000000000000000000000000000000...</td>\n",
       "      <td>True</td>\n",
       "      <td>0000000000000000000000000000000000000000000000...</td>\n",
       "      <td>6</td>\n",
       "    </tr>\n",
       "  </tbody>\n",
       "</table>\n",
       "<p>1823 rows × 4 columns</p>\n",
       "</div>"
      ],
      "text/plain": [
       "                                                   Data Right_Length  \\\n",
       "0     0000000000000000000000000000000000000000000000...         True   \n",
       "1     0000000000000000000000000000470000000000000000...         True   \n",
       "2     0000000000000000000000000000470000000000000000...         True   \n",
       "3     0000000000000000000084d608f3bb466b000000000000...         True   \n",
       "5     0000000000000000000000000000000000000000000000...         True   \n",
       "6     0000000000000000000000000000000000009803000000...         True   \n",
       "7     000000000000000000000000000000de05000000000000...         True   \n",
       "8     0000000000000000000000000000000000000000000000...         True   \n",
       "9     0000000000000000000000000000000000000000000000...         True   \n",
       "11    0000000000000000000000e00400000000000000000000...         True   \n",
       "12    0000000000000000000000000000000000000000000000...         True   \n",
       "13    0000000000000000000000000000000000000000000000...         True   \n",
       "14    0000000000003841828a59237324000000000000000000...         True   \n",
       "15    00000000000000807e0000000000000000000000000000...         True   \n",
       "16    0000000000000000000000000000000000000000000000...         True   \n",
       "17    0000000000000000000000000000000000000000000000...         True   \n",
       "19    0000000000000000000000000000000000000000000000...         True   \n",
       "20    00000000000000000000000000c0fcc83647426b64d9d0...         True   \n",
       "21    0000000000000000000000000000000000000000000000...         True   \n",
       "23    0000000000000000000000000080390000000000000000...         True   \n",
       "24    000000000000000000000000ccaf98eb07000000000000...         True   \n",
       "25    000000cc6f6473e4480000000000000000000000000000...         True   \n",
       "26    0000000000000000000000000000000000000000000000...         True   \n",
       "27    0000000000000000000000000000000000000000000000...         True   \n",
       "28    0000000000000000000000000000000000000000000000...         True   \n",
       "29    0000000000000000000000000000000000000000000000...         True   \n",
       "30    0000000000000000000000000000000000000000000000...         True   \n",
       "31    0000000000000000000000000000000000000000000000...         True   \n",
       "32    00000000000000807e5400000000000000000000000000...         True   \n",
       "33    0000000000000000000000000000000000000000000000...         True   \n",
       "...                                                 ...          ...   \n",
       "2042  0000000000000000000000000000000000000000000000...         True   \n",
       "2043  0000000000000000000000000000000000000000000000...         True   \n",
       "2044  0000000000000000000000000000000000000000000000...         True   \n",
       "2045  0000000000000000000000000080391200000000000000...         True   \n",
       "2047  0000000000000000000000000000000000000000000000...         True   \n",
       "2049  9123010000000000000000000000000000000000000000...         True   \n",
       "2050  0000000000009823000000000000000000000000000000...         True   \n",
       "2052  0000000000000000000000000000000000000000000000...         True   \n",
       "2053  0000000000000000000000000000009823000000000000...         True   \n",
       "2056  0000000000000000000000000000000000000000000000...         True   \n",
       "2057  0000000000000000000000000000000000000000000000...         True   \n",
       "2058  0000000000000000000000000080394225a10080398209...         True   \n",
       "2060  c01c9547e6000000f40300000000a8221b000000000000...         True   \n",
       "2061  0000000000000000000000000000000000000000000000...         True   \n",
       "2062  0000000000000000000000000000000000000000000000...         True   \n",
       "2063  0000000000000000000000000000000000000000000000...         True   \n",
       "2064  0000000000000000000000000000000000000000000000...         True   \n",
       "2065  0000000000000000000000000000000000000000000000...         True   \n",
       "2066  000000680df5e309120000000000000000000000000000...         True   \n",
       "2067  0000000000000000000000000000000000000000000000...         True   \n",
       "2068  0000009823340000000000000000000000000000000000...         True   \n",
       "2069  0000000000000000000000000080390000000000000000...         True   \n",
       "2070  0000000000000000000000000000000000000000000000...         True   \n",
       "2071  0000000000000000000000000000000000000000000000...         True   \n",
       "2072  0000000000ef8a396d7304000000000000000000000000...         True   \n",
       "2073  0000000000000000000000000000000000000000000000...         True   \n",
       "2074  0000000000000000000000000000000000000000000000...         True   \n",
       "2075  0000000000000000000000000000000000000000000000...         True   \n",
       "2076  0000000000000000000000000000000000000000000000...         True   \n",
       "2077  0000000000009823000000000000000000000000000000...         True   \n",
       "\n",
       "                                               Data_bin  Flipped_bits  \n",
       "0     0000000000000000000000000000000000000000000000...             6  \n",
       "1     0000000000000000000000000000000000000000000000...             4  \n",
       "2     0000000000000000000000000000000000000000000000...             4  \n",
       "3     0000000000000000000000000000000000000000000000...            33  \n",
       "5     0000000000000000000000000000000000000000000000...             0  \n",
       "6     0000000000000000000000000000000000000000000000...             5  \n",
       "7     0000000000000000000000000000000000000000000000...             8  \n",
       "8     0000000000000000000000000000000000000000000000...             5  \n",
       "9     0000000000000000000000000000000000000000000000...             0  \n",
       "11    0000000000000000000000000000000000000000000000...             4  \n",
       "12    0000000000000000000000000000000000000000000000...             0  \n",
       "13    0000000000000000000000000000000000000000000000...             6  \n",
       "14    0000000000000000000000000000000000000000000000...            24  \n",
       "15    0000000000000000000000000000000000000000000000...             7  \n",
       "16    0000000000000000000000000000000000000000000000...            23  \n",
       "17    0000000000000000000000000000000000000000000000...            22  \n",
       "19    0000000000000000000000000000000000000000000000...             6  \n",
       "20    0000000000000000000000000000000000000000000000...            41  \n",
       "21    0000000000000000000000000000000000000000000000...             0  \n",
       "23    0000000000000000000000000000000000000000000000...            10  \n",
       "24    0000000000000000000000000000000000000000000000...            22  \n",
       "25    0000000000000000000000001100110001101111011001...            24  \n",
       "26    0000000000000000000000000000000000000000000000...            21  \n",
       "27    0000000000000000000000000000000000000000000000...             0  \n",
       "28    0000000000000000000000000000000000000000000000...             0  \n",
       "29    0000000000000000000000000000000000000000000000...             4  \n",
       "30    0000000000000000000000000000000000000000000000...             5  \n",
       "31    0000000000000000000000000000000000000000000000...            22  \n",
       "32    0000000000000000000000000000000000000000000000...            10  \n",
       "33    0000000000000000000000000000000000000000000000...             5  \n",
       "...                                                 ...           ...  \n",
       "2042  0000000000000000000000000000000000000000000000...             7  \n",
       "2043  0000000000000000000000000000000000000000000000...             0  \n",
       "2044  0000000000000000000000000000000000000000000000...            30  \n",
       "2045  0000000000000000000000000000000000000000000000...             7  \n",
       "2047  0000000000000000000000000000000000000000000000...             0  \n",
       "2049  1001000100100011000000010000000000000000000000...            21  \n",
       "2050  0000000000000000000000000000000000000000000000...             6  \n",
       "2052  0000000000000000000000000000000000000000000000...             0  \n",
       "2053  0000000000000000000000000000000000000000000000...            14  \n",
       "2056  0000000000000000000000000000000000000000000000...            14  \n",
       "2057  0000000000000000000000000000000000000000000000...             0  \n",
       "2058  0000000000000000000000000000000000000000000000...            27  \n",
       "2060  1100000000011100100101010100011111100110000000...            40  \n",
       "2061  0000000000000000000000000000000000000000000000...             0  \n",
       "2062  0000000000000000000000000000000000000000000000...             0  \n",
       "2063  0000000000000000000000000000000000000000000000...             0  \n",
       "2064  0000000000000000000000000000000000000000000000...            15  \n",
       "2065  0000000000000000000000000000000000000000000000...             0  \n",
       "2066  0000000000000000000000000110100000001101111101...            21  \n",
       "2067  0000000000000000000000000000000000000000000000...            19  \n",
       "2068  0000000000000000000000001001100000100011001101...             9  \n",
       "2069  0000000000000000000000000000000000000000000000...             5  \n",
       "2070  0000000000000000000000000000000000000000000000...            22  \n",
       "2071  0000000000000000000000000000000000000000000000...            18  \n",
       "2072  0000000000000000000000000000000000000000111011...            25  \n",
       "2073  0000000000000000000000000000000000000000000000...             0  \n",
       "2074  0000000000000000000000000000000000000000000000...             0  \n",
       "2075  0000000000000000000000000000000000000000000000...             6  \n",
       "2076  0000000000000000000000000000000000000000000000...             0  \n",
       "2077  0000000000000000000000000000000000000000000000...             6  \n",
       "\n",
       "[1823 rows x 4 columns]"
      ]
     },
     "execution_count": 16,
     "metadata": {},
     "output_type": "execute_result"
    }
   ],
   "source": [
    "p_data[p_data['Right_Length'] == True]"
   ]
  },
  {
   "cell_type": "code",
   "execution_count": null,
   "metadata": {
    "collapsed": false
   },
   "outputs": [],
   "source": [
    "# Broken data as a string\n",
    "# p_data = pd.DataFrame([pkt.data.data for pkt in broken_pkts], columns=['Data'])\n",
    "data=[]\n",
    "for pkt in broken_pkts:\n",
    "    try:\n",
    "        data.append(pkt.data.data)\n",
    "    except:\n",
    "        continue\n",
    "len(data)\n",
    "p_data = pd.DataFrame(data,columns=['Data'])\n",
    "p_data"
   ]
  },
  {
   "cell_type": "markdown",
   "metadata": {
    "collapsed": true
   },
   "source": [
    "# =========================================================\n",
    "### Deprecated\n",
    "# ========================================================="
   ]
  },
  {
   "cell_type": "markdown",
   "metadata": {},
   "source": [
    "Get the broken data from the packets as a string, hex values and binary array <span style=\"color:red;\">(Deprecated, it's done with Pandas now)</span> "
   ]
  },
  {
   "cell_type": "code",
   "execution_count": null,
   "metadata": {
    "collapsed": false
   },
   "outputs": [],
   "source": [
    "# # Broken data as a string\n",
    "# broken_data = [pkt.data.data for pkt in broken_pkts]\n",
    "\n",
    "\n",
    "# # filter out packets that have the wrong data length\n",
    "# broken_data = [x for x in broken_data if len(x) == 100]\n",
    "# total_broken_pkts_true_length = len(broken_data)\n",
    "# total_broken_pkts_false_length = total_broken_pkts - total_broken_pkts_true_length\n",
    "\n",
    "# # # Broken data as hex values\n",
    "# # hex_broken_data=[]\n",
    "# # count = 0\n",
    "# # for data in broken_data:\n",
    "# #     hex_broken_data.append([binascii.a2b_hex(data[byte:byte+2]) for byte in range(0, len(data),2)])\n",
    "# #     #print(byte)\n",
    "# #     count=count+1\n",
    "    \n",
    "# # Broken data as binary values\n",
    "# def str2bin(number):\n",
    "#     decimal_number = int(number,16)\n",
    "#     # Do not return the '0b' at the beginning and fill with zeroes\n",
    "#     return bin(decimal_number)[2:].zfill(8)\n",
    "# bin_broken_data = []\n",
    "# for data in broken_data:\n",
    "#     bin_broken_data.append([str2bin(data[byte : byte+2]) for byte in range(0, len(data),2)])\n",
    "\n",
    "\n"
   ]
  },
  {
   "cell_type": "markdown",
   "metadata": {},
   "source": [
    "Build a single array of bits per broken data  <span style=\"color:red;\">(Deprecated, it's done with Pandas now)</span> "
   ]
  },
  {
   "cell_type": "code",
   "execution_count": null,
   "metadata": {
    "collapsed": false
   },
   "outputs": [],
   "source": [
    "# temp = []\n",
    "# temp_str = ''\n",
    "# for data in bin_broken_data:\n",
    "#     for byte in data:\n",
    "#         temp_str = temp_str + byte\n",
    "#     temp.append(temp_str)\n",
    "#     temp_str=''\n",
    "\n",
    "# bin_broken_data = temp\n",
    "    "
   ]
  }
 ],
 "metadata": {
  "kernelspec": {
   "display_name": "Python 3",
   "language": "python",
   "name": "python3"
  },
  "language_info": {
   "codemirror_mode": {
    "name": "ipython",
    "version": 3
   },
   "file_extension": ".py",
   "mimetype": "text/x-python",
   "name": "python",
   "nbconvert_exporter": "python",
   "pygments_lexer": "ipython3",
   "version": "3.5.0"
  }
 },
 "nbformat": 4,
 "nbformat_minor": 0
}
