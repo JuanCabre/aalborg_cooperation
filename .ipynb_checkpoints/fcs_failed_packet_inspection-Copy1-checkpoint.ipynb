{
 "cells": [
  {
   "cell_type": "markdown",
   "metadata": {},
   "source": [
    "# Capturing the packets"
   ]
  },
  {
   "cell_type": "markdown",
   "metadata": {},
   "source": [
    "To capture the packets it is needed to set the NIC in monitor mode. The instructions are [here](https://sandilands.info/sgordon/capturing-wifi-in-monitor-mode-with-iw)"
   ]
  },
  {
   "cell_type": "markdown",
   "metadata": {},
   "source": [
    "The only special consideration is that you need to include the flag for capturing packets with the FCS fail:\n",
    "\n",
    "```bash\n",
    "sudo iw phy phy0 interface add mon0 type monitor flags fcsfail\n",
    "```"
   ]
  },
  {
   "cell_type": "markdown",
   "metadata": {},
   "source": [
    "# Analyzing the data"
   ]
  },
  {
   "cell_type": "code",
   "execution_count": 1,
   "metadata": {
    "collapsed": false
   },
   "outputs": [],
   "source": [
    "import pyshark\n",
    "import pandas as pd\n",
    "import matplotlib.pyplot as plt\n",
    "# import binascii\n",
    "import timeit"
   ]
  },
  {
   "cell_type": "code",
   "execution_count": 2,
   "metadata": {
    "collapsed": true
   },
   "outputs": [],
   "source": [
    "TOTAL_BITS = 400"
   ]
  },
  {
   "cell_type": "code",
   "execution_count": 3,
   "metadata": {
    "collapsed": false
   },
   "outputs": [
    {
     "name": "stdout",
     "output_type": "stream",
     "text": [
      "Populating the interactive namespace from numpy and matplotlib\n"
     ]
    }
   ],
   "source": [
    "# See the plots in Jupyter env\n",
    "%pylab inline"
   ]
  },
  {
   "cell_type": "markdown",
   "metadata": {},
   "source": [
    "### Load the captured packets"
   ]
  },
  {
   "cell_type": "code",
   "execution_count": 14,
   "metadata": {
    "collapsed": false
   },
   "outputs": [],
   "source": [
    "cap = pyshark.FileCapture('test_capture.pcapng')\n",
    "# cap = pyshark.FileCapture('gvsp.pcapng')\n",
    "# cap = pyshark.FileCapture('bigger test.pcapng')"
   ]
  },
  {
   "cell_type": "code",
   "execution_count": 15,
   "metadata": {
    "collapsed": false
   },
   "outputs": [
    {
     "data": {
      "text/plain": [
       "0"
      ]
     },
     "execution_count": 15,
     "metadata": {},
     "output_type": "execute_result"
    }
   ],
   "source": [
    "len(cap)"
   ]
  },
  {
   "cell_type": "markdown",
   "metadata": {},
   "source": [
    "### Filter the CRC broken packets"
   ]
  },
  {
   "cell_type": "code",
   "execution_count": 16,
   "metadata": {
    "collapsed": false
   },
   "outputs": [
    {
     "name": "stdout",
     "output_type": "stream",
     "text": [
      "Time taken: 82.99640984600046 seconds\n"
     ]
    }
   ],
   "source": [
    "# Lets measure the time it takes to complete this\n",
    "start_time = timeit.default_timer()\n",
    "broken_pkts = [pkt for pkt in cap if pkt.wlan.fcs_bad == '1']\n",
    "print ('Time taken: {} seconds'.format(timeit.default_timer() - start_time))\n",
    "\n",
    "total_broken_pkts = len(broken_pkts)"
   ]
  },
  {
   "cell_type": "markdown",
   "metadata": {},
   "source": [
    "Or using pandas, we build the data frame with some usefull columns:"
   ]
  },
  {
   "cell_type": "code",
   "execution_count": 6,
   "metadata": {
    "collapsed": false
   },
   "outputs": [],
   "source": [
    "# Broken data as a string\n",
    "p_data = pd.DataFrame([pkt.data.data for pkt in broken_pkts], columns=['Data'])\n",
    "\n",
    "# Add a column stating if the data has the right length\n",
    "p_data['Right_Length'] = p_data['Data'].apply(lambda x: len(x) == 100)\n",
    "\n",
    "# Add a column with Binary Data\n",
    "def str2bin(number):\n",
    "    decimal_number = int(number,16)\n",
    "    # Do not return the '0b' at the beginning and fill with zeroes\n",
    "    return bin(decimal_number)[2:].zfill(8)\n",
    "\n",
    "def data_to_bin(data):\n",
    "    return [str2bin(data[byte : byte+2]) for byte in range(0, len(data),2)]\n",
    "\n",
    "def bytes_to_binarray(list_of_bytes):\n",
    "    temp_str = ''\n",
    "    for byte in list_of_bytes:\n",
    "        temp_str = temp_str + byte\n",
    "    return temp_str\n",
    "\n",
    "p_data['Data_bin'] = p_data['Data'].apply(data_to_bin)\n",
    "p_data['Data_bin'] = p_data['Data_bin'].apply(bytes_to_binarray)\n",
    "\n",
    "# Add column with number of bits flipped\n",
    "p_data['Flipped_bits'] = p_data['Data_bin'].apply(lambda x: x.count('1'))"
   ]
  },
  {
   "cell_type": "markdown",
   "metadata": {
    "collapsed": false,
    "scrolled": true
   },
   "source": [
    "Count the number of packets with the right and wrong length"
   ]
  },
  {
   "cell_type": "code",
   "execution_count": 7,
   "metadata": {
    "collapsed": false
   },
   "outputs": [],
   "source": [
    "# Group the packets in right/wrong length and count the number of occurences\n",
    "lengths = p_data.groupby(['Right_Length']).size()\n",
    "\n",
    "# Right length\n",
    "total_broken_pkts_true_length = lengths[True]\n",
    "\n",
    "# Wrong length\n",
    "total_broken_pkts_false_length = lengths[False]"
   ]
  },
  {
   "cell_type": "markdown",
   "metadata": {},
   "source": [
    "Create a vector containing the number of bits flipped in specific locations"
   ]
  },
  {
   "cell_type": "code",
   "execution_count": 8,
   "metadata": {
    "collapsed": false
   },
   "outputs": [],
   "source": [
    "# Empty vector\n",
    "flips_occurences = [0]*TOTAL_BITS\n",
    "\n",
    "# Operate only over data packets of the right size\n",
    "right_size_data = p_data[p_data['Right_Length'] == True]['Data_bin']\n",
    "\n",
    "for row in right_size_data:\n",
    "    # Traverse the vector\n",
    "    for i,x in enumerate(row):\n",
    "        # If the value is a '1' add one to the vector of flips_occurences\n",
    "        if x == '1':\n",
    "            flips_occurences[i] = flips_occurences[i] + 1"
   ]
  },
  {
   "cell_type": "markdown",
   "metadata": {},
   "source": [
    "Plot the histogram with flip ocurrences"
   ]
  },
  {
   "cell_type": "code",
   "execution_count": 76,
   "metadata": {
    "collapsed": false,
    "scrolled": true
   },
   "outputs": [
    {
     "data": {
      "text/plain": [
       "[<matplotlib.lines.Line2D at 0x7fdd5887f0f0>]"
      ]
     },
     "execution_count": 76,
     "metadata": {},
     "output_type": "execute_result"
    },
    {
     "data": {
      "image/png": "[encoded data removed]",
      "text/plain": [
       "<matplotlib.figure.Figure at 0x7fdd596e5748>"
      ]
     },
     "metadata": {},
     "output_type": "display_data"
    }
   ],
   "source": [
    "fig = plt.figure()\n",
    "plt.plot(range(len(flips_occurences)),flips_occurences / total_broken_pkts_true_length)"
   ]
  },
  {
   "cell_type": "markdown",
   "metadata": {},
   "source": [
    "### Average number of flipped bits"
   ]
  },
  {
   "cell_type": "code",
   "execution_count": 75,
   "metadata": {
    "collapsed": false
   },
   "outputs": [
    {
     "data": {
      "text/plain": [
       "32.52173913043478"
      ]
     },
     "execution_count": 75,
     "metadata": {},
     "output_type": "execute_result"
    }
   ],
   "source": [
    "p_data[p_data['Right_Length'] == True]['Flipped_bits'].mean()"
   ]
  },
  {
   "cell_type": "markdown",
   "metadata": {},
   "source": [
    "# =========================================================\n",
    "### Cells for testing code\n",
    "# ========================================================="
   ]
  },
  {
   "cell_type": "code",
   "execution_count": 71,
   "metadata": {
    "collapsed": false
   },
   "outputs": [
    {
     "data": {
      "text/plain": [
       "84"
      ]
     },
     "execution_count": 71,
     "metadata": {},
     "output_type": "execute_result"
    }
   ],
   "source": [
    "len(broken_pkts)"
   ]
  },
  {
   "cell_type": "code",
   "execution_count": 72,
   "metadata": {
    "collapsed": false
   },
   "outputs": [],
   "source": [
    "# cap2 = pyshark.FileCapture('big test.pcapng',display_filter='wlan.fcs_bad == true')\n"
   ]
  },
  {
   "cell_type": "code",
   "execution_count": 74,
   "metadata": {
    "collapsed": false,
    "scrolled": true
   },
   "outputs": [
    {
     "data": {
      "text/html": [
       "<div>\n",
       "<table border=\"1\" class=\"dataframe\">\n",
       "  <thead>\n",
       "    <tr style=\"text-align: right;\">\n",
       "      <th></th>\n",
       "      <th>Data</th>\n",
       "      <th>Right_Length</th>\n",
       "      <th>Data_bin</th>\n",
       "      <th>Flipped_bits</th>\n",
       "    </tr>\n",
       "  </thead>\n",
       "  <tbody>\n",
       "    <tr>\n",
       "      <th>0</th>\n",
       "      <td>0000000000000000000000000000000000000000000000...</td>\n",
       "      <td>True</td>\n",
       "      <td>0000000000000000000000000000000000000000000000...</td>\n",
       "      <td>0</td>\n",
       "    </tr>\n",
       "    <tr>\n",
       "      <th>2</th>\n",
       "      <td>0000000000000000000000000000000030000000000000...</td>\n",
       "      <td>True</td>\n",
       "      <td>0000000000000000000000000000000000000000000000...</td>\n",
       "      <td>2</td>\n",
       "    </tr>\n",
       "    <tr>\n",
       "      <th>3</th>\n",
       "      <td>0000000000000000000000000000000000000000000000...</td>\n",
       "      <td>True</td>\n",
       "      <td>0000000000000000000000000000000000000000000000...</td>\n",
       "      <td>48</td>\n",
       "    </tr>\n",
       "    <tr>\n",
       "      <th>4</th>\n",
       "      <td>000000000000000000000000000000000000000020fbdf...</td>\n",
       "      <td>True</td>\n",
       "      <td>0000000000000000000000000000000000000000000000...</td>\n",
       "      <td>99</td>\n",
       "    </tr>\n",
       "    <tr>\n",
       "      <th>5</th>\n",
       "      <td>0000000000000000000000000000000000000000000000...</td>\n",
       "      <td>True</td>\n",
       "      <td>0000000000000000000000000000000000000000000000...</td>\n",
       "      <td>0</td>\n",
       "    </tr>\n",
       "    <tr>\n",
       "      <th>6</th>\n",
       "      <td>0000000000000000000000000000000000000000000000...</td>\n",
       "      <td>True</td>\n",
       "      <td>0000000000000000000000000000000000000000000000...</td>\n",
       "      <td>3</td>\n",
       "    </tr>\n",
       "    <tr>\n",
       "      <th>7</th>\n",
       "      <td>0000000000000000000000000000000000000000000000...</td>\n",
       "      <td>True</td>\n",
       "      <td>0000000000000000000000000000000000000000000000...</td>\n",
       "      <td>0</td>\n",
       "    </tr>\n",
       "    <tr>\n",
       "      <th>8</th>\n",
       "      <td>0000000000000000000000000000000000000000000076...</td>\n",
       "      <td>True</td>\n",
       "      <td>0000000000000000000000000000000000000000000000...</td>\n",
       "      <td>96</td>\n",
       "    </tr>\n",
       "    <tr>\n",
       "      <th>9</th>\n",
       "      <td>0000000000000000000000000000000000000000000000...</td>\n",
       "      <td>True</td>\n",
       "      <td>0000000000000000000000000000000000000000000000...</td>\n",
       "      <td>78</td>\n",
       "    </tr>\n",
       "    <tr>\n",
       "      <th>10</th>\n",
       "      <td>0000000000000000000000000000000000000000000000...</td>\n",
       "      <td>True</td>\n",
       "      <td>0000000000000000000000000000000000000000000000...</td>\n",
       "      <td>0</td>\n",
       "    </tr>\n",
       "    <tr>\n",
       "      <th>11</th>\n",
       "      <td>0000000000000000000000000000000000000000000000...</td>\n",
       "      <td>True</td>\n",
       "      <td>0000000000000000000000000000000000000000000000...</td>\n",
       "      <td>31</td>\n",
       "    </tr>\n",
       "    <tr>\n",
       "      <th>12</th>\n",
       "      <td>00000000000000000000000000000000000000006ff6ff...</td>\n",
       "      <td>True</td>\n",
       "      <td>0000000000000000000000000000000000000000000000...</td>\n",
       "      <td>94</td>\n",
       "    </tr>\n",
       "    <tr>\n",
       "      <th>13</th>\n",
       "      <td>0000000000000000009823a1125a2303000098a37e544c...</td>\n",
       "      <td>True</td>\n",
       "      <td>0000000000000000000000000000000000000000000000...</td>\n",
       "      <td>73</td>\n",
       "    </tr>\n",
       "    <tr>\n",
       "      <th>14</th>\n",
       "      <td>0000000000000000000000000000000000000000000000...</td>\n",
       "      <td>True</td>\n",
       "      <td>0000000000000000000000000000000000000000000000...</td>\n",
       "      <td>67</td>\n",
       "    </tr>\n",
       "    <tr>\n",
       "      <th>15</th>\n",
       "      <td>0000000000000000000000000000000000000000000000...</td>\n",
       "      <td>True</td>\n",
       "      <td>0000000000000000000000000000000000000000000000...</td>\n",
       "      <td>0</td>\n",
       "    </tr>\n",
       "    <tr>\n",
       "      <th>17</th>\n",
       "      <td>0000000000000000804800001081245264375b0076f40e...</td>\n",
       "      <td>True</td>\n",
       "      <td>0000000000000000000000000000000000000000000000...</td>\n",
       "      <td>116</td>\n",
       "    </tr>\n",
       "    <tr>\n",
       "      <th>18</th>\n",
       "      <td>0000000000000000000000000000000000000000000000...</td>\n",
       "      <td>True</td>\n",
       "      <td>0000000000000000000000000000000000000000000000...</td>\n",
       "      <td>0</td>\n",
       "    </tr>\n",
       "    <tr>\n",
       "      <th>19</th>\n",
       "      <td>000000000000000000cc8828792b00000080ddfa086531...</td>\n",
       "      <td>True</td>\n",
       "      <td>0000000000000000000000000000000000000000000000...</td>\n",
       "      <td>95</td>\n",
       "    </tr>\n",
       "    <tr>\n",
       "      <th>20</th>\n",
       "      <td>0000000000000000000000000000000000000000000000...</td>\n",
       "      <td>True</td>\n",
       "      <td>0000000000000000000000000000000000000000000000...</td>\n",
       "      <td>0</td>\n",
       "    </tr>\n",
       "    <tr>\n",
       "      <th>21</th>\n",
       "      <td>00000000000000000000000060c103000e000000801df2...</td>\n",
       "      <td>True</td>\n",
       "      <td>0000000000000000000000000000000000000000000000...</td>\n",
       "      <td>84</td>\n",
       "    </tr>\n",
       "    <tr>\n",
       "      <th>22</th>\n",
       "      <td>0000000000000000000000000000000000000000000000...</td>\n",
       "      <td>True</td>\n",
       "      <td>0000000000000000000000000000000000000000000000...</td>\n",
       "      <td>0</td>\n",
       "    </tr>\n",
       "    <tr>\n",
       "      <th>23</th>\n",
       "      <td>804800000000009110196ba5b6862412220100210aa6c5...</td>\n",
       "      <td>True</td>\n",
       "      <td>1000000001001000000000000000000000000000000000...</td>\n",
       "      <td>51</td>\n",
       "    </tr>\n",
       "    <tr>\n",
       "      <th>24</th>\n",
       "      <td>0000000000000000000000000000000000000000000000...</td>\n",
       "      <td>True</td>\n",
       "      <td>0000000000000000000000000000000000000000000000...</td>\n",
       "      <td>1</td>\n",
       "    </tr>\n",
       "    <tr>\n",
       "      <th>26</th>\n",
       "      <td>0000000000000000000000000000000000000000000000...</td>\n",
       "      <td>True</td>\n",
       "      <td>0000000000000000000000000000000000000000000000...</td>\n",
       "      <td>0</td>\n",
       "    </tr>\n",
       "    <tr>\n",
       "      <th>27</th>\n",
       "      <td>0000000000000000000000000000000000000000000000...</td>\n",
       "      <td>True</td>\n",
       "      <td>0000000000000000000000000000000000000000000000...</td>\n",
       "      <td>0</td>\n",
       "    </tr>\n",
       "    <tr>\n",
       "      <th>29</th>\n",
       "      <td>00000000000000000000000000000000000000d3fd3f1c...</td>\n",
       "      <td>True</td>\n",
       "      <td>0000000000000000000000000000000000000000000000...</td>\n",
       "      <td>93</td>\n",
       "    </tr>\n",
       "    <tr>\n",
       "      <th>31</th>\n",
       "      <td>0000000000000000000000000000001049141bcc46ac62...</td>\n",
       "      <td>True</td>\n",
       "      <td>0000000000000000000000000000000000000000000000...</td>\n",
       "      <td>44</td>\n",
       "    </tr>\n",
       "    <tr>\n",
       "      <th>32</th>\n",
       "      <td>0000000000000000000000000000000000000000000000...</td>\n",
       "      <td>True</td>\n",
       "      <td>0000000000000000000000000000000000000000000000...</td>\n",
       "      <td>91</td>\n",
       "    </tr>\n",
       "    <tr>\n",
       "      <th>33</th>\n",
       "      <td>0000000000000000000000000000000000000000000000...</td>\n",
       "      <td>True</td>\n",
       "      <td>0000000000000000000000000000000000000000000000...</td>\n",
       "      <td>1</td>\n",
       "    </tr>\n",
       "    <tr>\n",
       "      <th>34</th>\n",
       "      <td>0000000000000000000000000000000000000000000000...</td>\n",
       "      <td>True</td>\n",
       "      <td>0000000000000000000000000000000000000000000000...</td>\n",
       "      <td>0</td>\n",
       "    </tr>\n",
       "    <tr>\n",
       "      <th>...</th>\n",
       "      <td>...</td>\n",
       "      <td>...</td>\n",
       "      <td>...</td>\n",
       "      <td>...</td>\n",
       "    </tr>\n",
       "    <tr>\n",
       "      <th>44</th>\n",
       "      <td>0000000000000000000000000000000000000000000000...</td>\n",
       "      <td>True</td>\n",
       "      <td>0000000000000000000000000000000000000000000000...</td>\n",
       "      <td>0</td>\n",
       "    </tr>\n",
       "    <tr>\n",
       "      <th>45</th>\n",
       "      <td>0000000000000000000000000000000000000000000000...</td>\n",
       "      <td>True</td>\n",
       "      <td>0000000000000000000000000000000000000000000000...</td>\n",
       "      <td>7</td>\n",
       "    </tr>\n",
       "    <tr>\n",
       "      <th>46</th>\n",
       "      <td>0000000000000000000000000000000000000000e0e9fe...</td>\n",
       "      <td>True</td>\n",
       "      <td>0000000000000000000000000000000000000000000000...</td>\n",
       "      <td>94</td>\n",
       "    </tr>\n",
       "    <tr>\n",
       "      <th>47</th>\n",
       "      <td>0000000000000000000000000000000000000000000000...</td>\n",
       "      <td>True</td>\n",
       "      <td>0000000000000000000000000000000000000000000000...</td>\n",
       "      <td>0</td>\n",
       "    </tr>\n",
       "    <tr>\n",
       "      <th>49</th>\n",
       "      <td>0000000000000000000000000000000000000000000000...</td>\n",
       "      <td>True</td>\n",
       "      <td>0000000000000000000000000000000000000000000000...</td>\n",
       "      <td>50</td>\n",
       "    </tr>\n",
       "    <tr>\n",
       "      <th>53</th>\n",
       "      <td>0000000000000000000000000000000000000000000000...</td>\n",
       "      <td>True</td>\n",
       "      <td>0000000000000000000000000000000000000000000000...</td>\n",
       "      <td>23</td>\n",
       "    </tr>\n",
       "    <tr>\n",
       "      <th>54</th>\n",
       "      <td>0000000000000000000000000000000000000000000000...</td>\n",
       "      <td>True</td>\n",
       "      <td>0000000000000000000000000000000000000000000000...</td>\n",
       "      <td>11</td>\n",
       "    </tr>\n",
       "    <tr>\n",
       "      <th>55</th>\n",
       "      <td>0000000000000000000000000000000000000000000000...</td>\n",
       "      <td>True</td>\n",
       "      <td>0000000000000000000000000000000000000000000000...</td>\n",
       "      <td>28</td>\n",
       "    </tr>\n",
       "    <tr>\n",
       "      <th>56</th>\n",
       "      <td>0000000000000000000000000000000000000000000000...</td>\n",
       "      <td>True</td>\n",
       "      <td>0000000000000000000000000000000000000000000000...</td>\n",
       "      <td>44</td>\n",
       "    </tr>\n",
       "    <tr>\n",
       "      <th>57</th>\n",
       "      <td>0000000000000000000000000000000000000000000000...</td>\n",
       "      <td>True</td>\n",
       "      <td>0000000000000000000000000000000000000000000000...</td>\n",
       "      <td>0</td>\n",
       "    </tr>\n",
       "    <tr>\n",
       "      <th>58</th>\n",
       "      <td>0000000000000000000000000000000000000000000000...</td>\n",
       "      <td>True</td>\n",
       "      <td>0000000000000000000000000000000000000000000000...</td>\n",
       "      <td>6</td>\n",
       "    </tr>\n",
       "    <tr>\n",
       "      <th>59</th>\n",
       "      <td>0000000000000000000000000000000000000000000000...</td>\n",
       "      <td>True</td>\n",
       "      <td>0000000000000000000000000000000000000000000000...</td>\n",
       "      <td>52</td>\n",
       "    </tr>\n",
       "    <tr>\n",
       "      <th>60</th>\n",
       "      <td>0000000000000000000000000000000000000000000000...</td>\n",
       "      <td>True</td>\n",
       "      <td>0000000000000000000000000000000000000000000000...</td>\n",
       "      <td>6</td>\n",
       "    </tr>\n",
       "    <tr>\n",
       "      <th>61</th>\n",
       "      <td>0000000000000000000000000000000000000000000000...</td>\n",
       "      <td>True</td>\n",
       "      <td>0000000000000000000000000000000000000000000000...</td>\n",
       "      <td>0</td>\n",
       "    </tr>\n",
       "    <tr>\n",
       "      <th>63</th>\n",
       "      <td>0000000000000000000000000000000000000000000000...</td>\n",
       "      <td>True</td>\n",
       "      <td>0000000000000000000000000000000000000000000000...</td>\n",
       "      <td>6</td>\n",
       "    </tr>\n",
       "    <tr>\n",
       "      <th>64</th>\n",
       "      <td>0000000000000000000000000000000000000000000000...</td>\n",
       "      <td>True</td>\n",
       "      <td>0000000000000000000000000000000000000000000000...</td>\n",
       "      <td>0</td>\n",
       "    </tr>\n",
       "    <tr>\n",
       "      <th>65</th>\n",
       "      <td>0000000000000000000000000000000000660300a30800...</td>\n",
       "      <td>True</td>\n",
       "      <td>0000000000000000000000000000000000000000000000...</td>\n",
       "      <td>32</td>\n",
       "    </tr>\n",
       "    <tr>\n",
       "      <th>66</th>\n",
       "      <td>0000000000000000000000000000000000000000000000...</td>\n",
       "      <td>True</td>\n",
       "      <td>0000000000000000000000000000000000000000000000...</td>\n",
       "      <td>39</td>\n",
       "    </tr>\n",
       "    <tr>\n",
       "      <th>67</th>\n",
       "      <td>0000000000000000000000000000000000000000000000...</td>\n",
       "      <td>True</td>\n",
       "      <td>0000000000000000000000000000000000000000000000...</td>\n",
       "      <td>75</td>\n",
       "    </tr>\n",
       "    <tr>\n",
       "      <th>68</th>\n",
       "      <td>00000000000000000000000000000000000000e6486898...</td>\n",
       "      <td>True</td>\n",
       "      <td>0000000000000000000000000000000000000000000000...</td>\n",
       "      <td>25</td>\n",
       "    </tr>\n",
       "    <tr>\n",
       "      <th>69</th>\n",
       "      <td>0000000000000000000000000000000000000000000000...</td>\n",
       "      <td>True</td>\n",
       "      <td>0000000000000000000000000000000000000000000000...</td>\n",
       "      <td>7</td>\n",
       "    </tr>\n",
       "    <tr>\n",
       "      <th>71</th>\n",
       "      <td>0000000000000000000000000000000000000000000000...</td>\n",
       "      <td>True</td>\n",
       "      <td>0000000000000000000000000000000000000000000000...</td>\n",
       "      <td>0</td>\n",
       "    </tr>\n",
       "    <tr>\n",
       "      <th>74</th>\n",
       "      <td>0000000000000000000000000000000000000000000000...</td>\n",
       "      <td>True</td>\n",
       "      <td>0000000000000000000000000000000000000000000000...</td>\n",
       "      <td>29</td>\n",
       "    </tr>\n",
       "    <tr>\n",
       "      <th>75</th>\n",
       "      <td>0000000000000000000000000000000000000000000000...</td>\n",
       "      <td>True</td>\n",
       "      <td>0000000000000000000000000000000000000000000000...</td>\n",
       "      <td>10</td>\n",
       "    </tr>\n",
       "    <tr>\n",
       "      <th>76</th>\n",
       "      <td>0000000000000000000000000000000000000000000000...</td>\n",
       "      <td>True</td>\n",
       "      <td>0000000000000000000000000000000000000000000000...</td>\n",
       "      <td>12</td>\n",
       "    </tr>\n",
       "    <tr>\n",
       "      <th>77</th>\n",
       "      <td>0000000000000000000000000000000000000000000000...</td>\n",
       "      <td>True</td>\n",
       "      <td>0000000000000000000000000000000000000000000000...</td>\n",
       "      <td>0</td>\n",
       "    </tr>\n",
       "    <tr>\n",
       "      <th>78</th>\n",
       "      <td>0000000000000000000000000000000000000000000000...</td>\n",
       "      <td>True</td>\n",
       "      <td>0000000000000000000000000000000000000000000000...</td>\n",
       "      <td>12</td>\n",
       "    </tr>\n",
       "    <tr>\n",
       "      <th>79</th>\n",
       "      <td>0000000000000000000000000000000000000000000000...</td>\n",
       "      <td>True</td>\n",
       "      <td>0000000000000000000000000000000000000000000000...</td>\n",
       "      <td>8</td>\n",
       "    </tr>\n",
       "    <tr>\n",
       "      <th>81</th>\n",
       "      <td>0000000000000000000000000000000000000000000000...</td>\n",
       "      <td>True</td>\n",
       "      <td>0000000000000000000000000000000000000000000000...</td>\n",
       "      <td>0</td>\n",
       "    </tr>\n",
       "    <tr>\n",
       "      <th>83</th>\n",
       "      <td>0000000000000000000000000000000000300000e00400...</td>\n",
       "      <td>True</td>\n",
       "      <td>0000000000000000000000000000000000000000000000...</td>\n",
       "      <td>20</td>\n",
       "    </tr>\n",
       "  </tbody>\n",
       "</table>\n",
       "<p>69 rows × 4 columns</p>\n",
       "</div>"
      ],
      "text/plain": [
       "                                                 Data Right_Length  \\\n",
       "0   0000000000000000000000000000000000000000000000...         True   \n",
       "2   0000000000000000000000000000000030000000000000...         True   \n",
       "3   0000000000000000000000000000000000000000000000...         True   \n",
       "4   000000000000000000000000000000000000000020fbdf...         True   \n",
       "5   0000000000000000000000000000000000000000000000...         True   \n",
       "6   0000000000000000000000000000000000000000000000...         True   \n",
       "7   0000000000000000000000000000000000000000000000...         True   \n",
       "8   0000000000000000000000000000000000000000000076...         True   \n",
       "9   0000000000000000000000000000000000000000000000...         True   \n",
       "10  0000000000000000000000000000000000000000000000...         True   \n",
       "11  0000000000000000000000000000000000000000000000...         True   \n",
       "12  00000000000000000000000000000000000000006ff6ff...         True   \n",
       "13  0000000000000000009823a1125a2303000098a37e544c...         True   \n",
       "14  0000000000000000000000000000000000000000000000...         True   \n",
       "15  0000000000000000000000000000000000000000000000...         True   \n",
       "17  0000000000000000804800001081245264375b0076f40e...         True   \n",
       "18  0000000000000000000000000000000000000000000000...         True   \n",
       "19  000000000000000000cc8828792b00000080ddfa086531...         True   \n",
       "20  0000000000000000000000000000000000000000000000...         True   \n",
       "21  00000000000000000000000060c103000e000000801df2...         True   \n",
       "22  0000000000000000000000000000000000000000000000...         True   \n",
       "23  804800000000009110196ba5b6862412220100210aa6c5...         True   \n",
       "24  0000000000000000000000000000000000000000000000...         True   \n",
       "26  0000000000000000000000000000000000000000000000...         True   \n",
       "27  0000000000000000000000000000000000000000000000...         True   \n",
       "29  00000000000000000000000000000000000000d3fd3f1c...         True   \n",
       "31  0000000000000000000000000000001049141bcc46ac62...         True   \n",
       "32  0000000000000000000000000000000000000000000000...         True   \n",
       "33  0000000000000000000000000000000000000000000000...         True   \n",
       "34  0000000000000000000000000000000000000000000000...         True   \n",
       "..                                                ...          ...   \n",
       "44  0000000000000000000000000000000000000000000000...         True   \n",
       "45  0000000000000000000000000000000000000000000000...         True   \n",
       "46  0000000000000000000000000000000000000000e0e9fe...         True   \n",
       "47  0000000000000000000000000000000000000000000000...         True   \n",
       "49  0000000000000000000000000000000000000000000000...         True   \n",
       "53  0000000000000000000000000000000000000000000000...         True   \n",
       "54  0000000000000000000000000000000000000000000000...         True   \n",
       "55  0000000000000000000000000000000000000000000000...         True   \n",
       "56  0000000000000000000000000000000000000000000000...         True   \n",
       "57  0000000000000000000000000000000000000000000000...         True   \n",
       "58  0000000000000000000000000000000000000000000000...         True   \n",
       "59  0000000000000000000000000000000000000000000000...         True   \n",
       "60  0000000000000000000000000000000000000000000000...         True   \n",
       "61  0000000000000000000000000000000000000000000000...         True   \n",
       "63  0000000000000000000000000000000000000000000000...         True   \n",
       "64  0000000000000000000000000000000000000000000000...         True   \n",
       "65  0000000000000000000000000000000000660300a30800...         True   \n",
       "66  0000000000000000000000000000000000000000000000...         True   \n",
       "67  0000000000000000000000000000000000000000000000...         True   \n",
       "68  00000000000000000000000000000000000000e6486898...         True   \n",
       "69  0000000000000000000000000000000000000000000000...         True   \n",
       "71  0000000000000000000000000000000000000000000000...         True   \n",
       "74  0000000000000000000000000000000000000000000000...         True   \n",
       "75  0000000000000000000000000000000000000000000000...         True   \n",
       "76  0000000000000000000000000000000000000000000000...         True   \n",
       "77  0000000000000000000000000000000000000000000000...         True   \n",
       "78  0000000000000000000000000000000000000000000000...         True   \n",
       "79  0000000000000000000000000000000000000000000000...         True   \n",
       "81  0000000000000000000000000000000000000000000000...         True   \n",
       "83  0000000000000000000000000000000000300000e00400...         True   \n",
       "\n",
       "                                             Data_bin  Flipped_bits  \n",
       "0   0000000000000000000000000000000000000000000000...             0  \n",
       "2   0000000000000000000000000000000000000000000000...             2  \n",
       "3   0000000000000000000000000000000000000000000000...            48  \n",
       "4   0000000000000000000000000000000000000000000000...            99  \n",
       "5   0000000000000000000000000000000000000000000000...             0  \n",
       "6   0000000000000000000000000000000000000000000000...             3  \n",
       "7   0000000000000000000000000000000000000000000000...             0  \n",
       "8   0000000000000000000000000000000000000000000000...            96  \n",
       "9   0000000000000000000000000000000000000000000000...            78  \n",
       "10  0000000000000000000000000000000000000000000000...             0  \n",
       "11  0000000000000000000000000000000000000000000000...            31  \n",
       "12  0000000000000000000000000000000000000000000000...            94  \n",
       "13  0000000000000000000000000000000000000000000000...            73  \n",
       "14  0000000000000000000000000000000000000000000000...            67  \n",
       "15  0000000000000000000000000000000000000000000000...             0  \n",
       "17  0000000000000000000000000000000000000000000000...           116  \n",
       "18  0000000000000000000000000000000000000000000000...             0  \n",
       "19  0000000000000000000000000000000000000000000000...            95  \n",
       "20  0000000000000000000000000000000000000000000000...             0  \n",
       "21  0000000000000000000000000000000000000000000000...            84  \n",
       "22  0000000000000000000000000000000000000000000000...             0  \n",
       "23  1000000001001000000000000000000000000000000000...            51  \n",
       "24  0000000000000000000000000000000000000000000000...             1  \n",
       "26  0000000000000000000000000000000000000000000000...             0  \n",
       "27  0000000000000000000000000000000000000000000000...             0  \n",
       "29  0000000000000000000000000000000000000000000000...            93  \n",
       "31  0000000000000000000000000000000000000000000000...            44  \n",
       "32  0000000000000000000000000000000000000000000000...            91  \n",
       "33  0000000000000000000000000000000000000000000000...             1  \n",
       "34  0000000000000000000000000000000000000000000000...             0  \n",
       "..                                                ...           ...  \n",
       "44  0000000000000000000000000000000000000000000000...             0  \n",
       "45  0000000000000000000000000000000000000000000000...             7  \n",
       "46  0000000000000000000000000000000000000000000000...            94  \n",
       "47  0000000000000000000000000000000000000000000000...             0  \n",
       "49  0000000000000000000000000000000000000000000000...            50  \n",
       "53  0000000000000000000000000000000000000000000000...            23  \n",
       "54  0000000000000000000000000000000000000000000000...            11  \n",
       "55  0000000000000000000000000000000000000000000000...            28  \n",
       "56  0000000000000000000000000000000000000000000000...            44  \n",
       "57  0000000000000000000000000000000000000000000000...             0  \n",
       "58  0000000000000000000000000000000000000000000000...             6  \n",
       "59  0000000000000000000000000000000000000000000000...            52  \n",
       "60  0000000000000000000000000000000000000000000000...             6  \n",
       "61  0000000000000000000000000000000000000000000000...             0  \n",
       "63  0000000000000000000000000000000000000000000000...             6  \n",
       "64  0000000000000000000000000000000000000000000000...             0  \n",
       "65  0000000000000000000000000000000000000000000000...            32  \n",
       "66  0000000000000000000000000000000000000000000000...            39  \n",
       "67  0000000000000000000000000000000000000000000000...            75  \n",
       "68  0000000000000000000000000000000000000000000000...            25  \n",
       "69  0000000000000000000000000000000000000000000000...             7  \n",
       "71  0000000000000000000000000000000000000000000000...             0  \n",
       "74  0000000000000000000000000000000000000000000000...            29  \n",
       "75  0000000000000000000000000000000000000000000000...            10  \n",
       "76  0000000000000000000000000000000000000000000000...            12  \n",
       "77  0000000000000000000000000000000000000000000000...             0  \n",
       "78  0000000000000000000000000000000000000000000000...            12  \n",
       "79  0000000000000000000000000000000000000000000000...             8  \n",
       "81  0000000000000000000000000000000000000000000000...             0  \n",
       "83  0000000000000000000000000000000000000000000000...            20  \n",
       "\n",
       "[69 rows x 4 columns]"
      ]
     },
     "execution_count": 74,
     "metadata": {},
     "output_type": "execute_result"
    }
   ],
   "source": [
    "p_data[p_data['Right_Length'] == True]"
   ]
  },
  {
   "cell_type": "code",
   "execution_count": null,
   "metadata": {
    "collapsed": false
   },
   "outputs": [],
   "source": []
  },
  {
   "cell_type": "markdown",
   "metadata": {
    "collapsed": true
   },
   "source": [
    "# =========================================================\n",
    "### Deprecated\n",
    "# ========================================================="
   ]
  },
  {
   "cell_type": "markdown",
   "metadata": {},
   "source": [
    "Get the broken data from the packets as a string, hex values and binary array <span style=\"color:red;\">(Deprecated, it's done with Pandas now)</span> "
   ]
  },
  {
   "cell_type": "code",
   "execution_count": 65,
   "metadata": {
    "collapsed": false
   },
   "outputs": [],
   "source": [
    "# # Broken data as a string\n",
    "# broken_data = [pkt.data.data for pkt in broken_pkts]\n",
    "\n",
    "\n",
    "# # filter out packets that have the wrong data length\n",
    "# broken_data = [x for x in broken_data if len(x) == 100]\n",
    "# total_broken_pkts_true_length = len(broken_data)\n",
    "# total_broken_pkts_false_length = total_broken_pkts - total_broken_pkts_true_length\n",
    "\n",
    "# # # Broken data as hex values\n",
    "# # hex_broken_data=[]\n",
    "# # count = 0\n",
    "# # for data in broken_data:\n",
    "# #     hex_broken_data.append([binascii.a2b_hex(data[byte:byte+2]) for byte in range(0, len(data),2)])\n",
    "# #     #print(byte)\n",
    "# #     count=count+1\n",
    "    \n",
    "# # Broken data as binary values\n",
    "# def str2bin(number):\n",
    "#     decimal_number = int(number,16)\n",
    "#     # Do not return the '0b' at the beginning and fill with zeroes\n",
    "#     return bin(decimal_number)[2:].zfill(8)\n",
    "# bin_broken_data = []\n",
    "# for data in broken_data:\n",
    "#     bin_broken_data.append([str2bin(data[byte : byte+2]) for byte in range(0, len(data),2)])\n",
    "\n",
    "\n"
   ]
  },
  {
   "cell_type": "markdown",
   "metadata": {},
   "source": [
    "Build a single array of bits per broken data  <span style=\"color:red;\">(Deprecated, it's done with Pandas now)</span> "
   ]
  },
  {
   "cell_type": "code",
   "execution_count": 66,
   "metadata": {
    "collapsed": false
   },
   "outputs": [],
   "source": [
    "# temp = []\n",
    "# temp_str = ''\n",
    "# for data in bin_broken_data:\n",
    "#     for byte in data:\n",
    "#         temp_str = temp_str + byte\n",
    "#     temp.append(temp_str)\n",
    "#     temp_str=''\n",
    "\n",
    "# bin_broken_data = temp\n",
    "    "
   ]
  }
 ],
 "metadata": {
  "kernelspec": {
   "display_name": "Python 3",
   "language": "python",
   "name": "python3"
  },
  "language_info": {
   "codemirror_mode": {
    "name": "ipython",
    "version": 3
   },
   "file_extension": ".py",
   "mimetype": "text/x-python",
   "name": "python",
   "nbconvert_exporter": "python",
   "pygments_lexer": "ipython3",
   "version": "3.5.0"
  }
 },
 "nbformat": 4,
 "nbformat_minor": 0
}
